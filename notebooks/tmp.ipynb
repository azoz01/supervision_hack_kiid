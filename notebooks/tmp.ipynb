{
 "cells": [
  {
   "cell_type": "code",
   "execution_count": 85,
   "metadata": {},
   "outputs": [],
   "source": [
    "def lcs(X, Y, factor=20):\n",
    "    # find the length of the strings\n",
    "    m = len(X)\n",
    "    n = len(Y)\n",
    "    \n",
    "    max_error = m // factor\n",
    " \n",
    "    # declaring the array for storing the dp values\n",
    "    L = [[None]*(n + 1) for i in range(m + 1)]\n",
    "    M = [[None]*(n + 1) for i in range(m + 1)]\n",
    "    \n",
    "    missing_key = [[m]*(n + 1) for i in range(m + 1)]\n",
    "    missing_text = [[n]*(n + 1) for i in range(m + 1)]\n",
    " \n",
    "    \"\"\"Following steps build L[m + 1][n + 1] in bottom up fashion\n",
    "    Note: L[i][j] contains length of LCS of X[0..i-1]\n",
    "    and Y[0..j-1]\"\"\"\n",
    "    for i in range(m + 1):\n",
    "        for j in range(n + 1):\n",
    "            if i == 0 or j == 0 :\n",
    "                L[i][j] = 0\n",
    "                M[i][j] = ''\n",
    "                missing_key[i][j] = m\n",
    "                missing_text[i][j] = n\n",
    "            elif X[i-1] == Y[j-1]:\n",
    "                L[i][j] = L[i-1][j-1]+1\n",
    "                M[i][j] = M[i-1][j-1] + X[i-1]\n",
    "                missing_key[i][j] = missing_key[i-1][j-1] - 1\n",
    "                missing_text[i][j] = missing_text[i-1][j-1] - 1\n",
    "                \n",
    "            else:\n",
    "                # L[i][j] = max(L[i-1][j], L[i][j-1])\n",
    "                if L[i-1][j] > L[i][j-1]:\n",
    "                    L[i][j] = L[i-1][j]\n",
    "                    M[i][j] = M[i-1][j] + '_'\n",
    "                    missing_key[i][j] = missing_key[i-1][j] \n",
    "                    missing_text[i][j] = missing_text[i-1][j] - 1                \n",
    "                else:\n",
    "                    L[i][j] = L[i][j-1]\n",
    "                    M[i][j] = M[i][j-1] + '^'\n",
    "                    missing_key[i][j] = missing_key[i][j-1] - 1\n",
    "                    missing_text[i][j] = missing_text[i][j-1] \n",
    "                    \n",
    " \n",
    "    # L[m][n] contains the length of LCS of X[0..n-1] & Y[0..m-1]\n",
    "    root = M[m][n][:m+max_error].rstrip('^').rstrip('_')\n",
    "    total_err = root.count('^') + root.count('_')\n",
    "    print(root)\n",
    "    return total_err <= max_error * 2"
   ]
  },
  {
   "cell_type": "code",
   "execution_count": 74,
   "metadata": {},
   "outputs": [],
   "source": [
    "key = 'kluczowe informacje dla inwestorów'\n",
    "match = 'duppa kluczowe informacje dla inwestoró 123 dgdfhjdfjgfdjdj  '"
   ]
  },
  {
   "cell_type": "code",
   "execution_count": 37,
   "metadata": {},
   "outputs": [
    {
     "data": {
      "text/plain": [
       "46"
      ]
     },
     "execution_count": 37,
     "metadata": {},
     "output_type": "execute_result"
    }
   ],
   "source": [
    "len(key)"
   ]
  },
  {
   "cell_type": "code",
   "execution_count": 84,
   "metadata": {},
   "outputs": [
    {
     "name": "stdout",
     "output_type": "stream",
     "text": [
      "kluczowe informacje dla inwestoró_^\n"
     ]
    },
    {
     "data": {
      "text/plain": [
       "True"
      ]
     },
     "execution_count": 84,
     "metadata": {},
     "output_type": "execute_result"
    }
   ],
   "source": [
    "lcs(key, match)"
   ]
  }
 ],
 "metadata": {
  "kernelspec": {
   "display_name": "Python 3.8.13 ('hack_venv')",
   "language": "python",
   "name": "python3"
  },
  "language_info": {
   "codemirror_mode": {
    "name": "ipython",
    "version": 3
   },
   "file_extension": ".py",
   "mimetype": "text/x-python",
   "name": "python",
   "nbconvert_exporter": "python",
   "pygments_lexer": "ipython3",
   "version": "3.8.13"
  },
  "orig_nbformat": 4,
  "vscode": {
   "interpreter": {
    "hash": "e98807ee2f3da63852960dc6020a5ec887e95e81874581de0b8e6ab43381f528"
   }
  }
 },
 "nbformat": 4,
 "nbformat_minor": 2
}
