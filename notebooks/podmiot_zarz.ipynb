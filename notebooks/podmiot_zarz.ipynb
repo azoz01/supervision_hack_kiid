{
 "cells": [
  {
   "cell_type": "code",
   "execution_count": 1,
   "outputs": [
    {
     "name": "stdout",
     "output_type": "stream",
     "text": [
      "/home/mikolaj/supervision_hack_kiid/notebooks\n"
     ]
    }
   ],
   "source": [
    "import os\n",
    "import re\n",
    "print(os.getcwd())\n",
    "os.chdir('..')"
   ],
   "metadata": {
    "collapsed": false
   }
  },
  {
   "cell_type": "code",
   "execution_count": 13,
   "outputs": [
    {
     "name": "stdout",
     "output_type": "stream",
     "text": [
      "Celem  inwestycyjnym  BPS  Emerytura  PPK  2060  jest  wzrost  wartości  aktywów  tego \n",
      "Subfunduszu  w  wyniku  wzrostu  wartości  lokat.  Subfundusz  jest  subfunduszem \n",
      "zdefiniowanej daty w rozumieniu art. 39 ustawy z 4.10.2018 r. o pracowniczych planach \n",
      "kapitałowych.  Zdefiniowaną  datą  dla  Subfunduszu  jest  2060  r.  \n"
     ]
    }
   ],
   "source": [
    "from lib.pdf_process import split_text_into_sections\n",
    "import spacy\n",
    "from pdfminer.high_level import extract_text\n",
    "\n",
    "file = 'data/filtered/2022-09-21_bps2060.pdf'\n",
    "\n",
    "nlp = spacy.load(\"pl_core_news_lg\", exclude=[\"parser\"])\n",
    "nlp.enable_pipe(\"senter\")\n",
    "\n",
    "cele_i_polityka = split_text_into_sections(extract_text(file), file)[1]\n",
    "cele_i_polityka = cele_i_polityka[cele_i_polityka.find('\\n')+1:]\n",
    "doc = nlp(cele_i_polityka)\n",
    "\n",
    "if cele_i_polityka.__contains__(\"cel\"):\n",
    "    cel = ' '.join([sent for sent in doc.sents if sent.__contains__(\"cel\")])\n",
    "else:\n",
    "    cel = list(doc.sents)[0]\n",
    "\n",
    "\n",
    "print(cel)\n",
    "\n",
    "\n"
   ],
   "metadata": {
    "collapsed": false
   }
  },
  {
   "cell_type": "code",
   "execution_count": 20,
   "outputs": [],
   "source": [
    "nlp =spacy.load(\"pl_core_news_lg\", exclude=[\"parser\"])\n",
    "nlp.enable_pipe(\"senter\")\n",
    "def get_cel(row):\n",
    "    text = row['cele_i_polityka']\n",
    "    doc = nlp(text)\n",
    "    for it, cel in enumerate(doc.sents):\n",
    "        return it\n",
    "\n",
    "    return doc.sents\n",
    "\n",
    "def get_ncel(row):\n",
    "    text = row['cele_i_polityka']\n",
    "    doc = nlp(text)\n",
    "    polityka = ' '.join([polityka for i, polityka in enumerate(doc.sents) if i!=0])\n",
    "    return polityka"
   ],
   "metadata": {
    "collapsed": false
   }
  },
  {
   "cell_type": "code",
   "execution_count": 21,
   "outputs": [
    {
     "data": {
      "text/plain": "Celem  inwestycyjnym  BPS  Emerytura  PPK  2060  jest  wzrost  wartości  aktywów  tego \nSubfunduszu  w  wyniku  wzrostu  wartości  lokat.  Subfundusz  jest  subfunduszem \nzdefiniowanej daty w rozumieniu art. 39 ustawy z 4.10.2018 r. o pracowniczych planach \nkapitałowych.  Zdefiniowaną  datą  dla  Subfunduszu  jest  2060  r.  "
     },
     "execution_count": 21,
     "metadata": {},
     "output_type": "execute_result"
    }
   ],
   "source": [
    "get_cel({'dupa':cele_i_polityka})"
   ],
   "metadata": {
    "collapsed": false
   }
  },
  {
   "cell_type": "code",
   "execution_count": 12,
   "outputs": [
    {
     "name": "stdout",
     "output_type": "stream",
     "text": [
      "[Celem  inwestycyjnym  BPS  , Emerytura  PPK  2060  jest  wzrost  wartości  aktywów  tego \n",
      "Subfunduszu  w  wyniku  wzrostu  wartości  lokat.,  , Subfundusz  jest  subfunduszem \n",
      "zdefiniowanej daty w rozumieniu art. 39 ustawy z 4.10.2018 r. o pracowniczych planach \n",
      "kapitałowych.  , Zdefiniowaną  datą  dla  Subfunduszu  jest  2060  r.  , Oznacza  to,  że \n",
      "Subfundusz  zmienia  swoją  politykę  inwestycyjną  w  czasie,  dążąc  do  zwiększania \n",
      "bezpieczeństwa  inwestycyjnego  w  miarę  zbliżania  się  do  zdefiniowanej  daty.,  , Dobór \n",
      "lokat  jest  zgodny  z  ustaloną  dla  danego  okresu  alokacją  aktywów  z  uwzględnieniem \n",
      "konieczności  dokonywania  stopniowej  zmiany  udziałów  części  udziałowej  i  części \n",
      "dłużnej zgodnie z założeniami Subfunduszu., Oznacza to stopniową zmianę polegającą \n",
      "na  zmniejszaniu  części  lokat  zainwestowanych  w  instrumenty  charakteryzujące  się \n",
      "najwyższym  poziomem  ryzyka  na  rzecz  bardziej  konserwatywnych  lokat  związanych  \n",
      "z instrumentami o niższym poziomie ryzyka., Poprzez część udziałową należy rozumieć \n",
      "inwestycje  dokonywane  w  akcje  i  instrumenty  finansowe  o  podobnym  charakterze, \n",
      "natomiast  na  część  dłużną  składają  się  inwestycje  w  obligacje,  listy  zastawne  oraz \n",
      "instrumenty rynku pieniężnego., \n",
      "\n",
      "W okresie do 31.12.2039 r., Subfundusz będzie lokował nie mniej niż 60% i nie więcej \n",
      "niż 80% wartości aktywów Subfunduszu w części udziałowej., Udział części dłużnej nie \n",
      "może  być  mniejszy  niż  20%  i  nie  może  być  większy  niż  40%  wartości  aktywów \n",
      "Funduszu., W okresie od 01.01.2040 r. do 31.12.2049 r., Subfundusz będzie lokował nie \n",
      "mniej  niż  40%  oraz  nie  więcej  niż  70%  wartości  aktywów  Subfunduszu  w  części \n",
      "udziałowej., Udział części dłużnej nie może być mniejszy niż 30% oraz większy niż 60% \n",
      "wartości  aktywów  Subfunduszu.  , W  okresie  od  01.01.2050  r.  do  31.12.2054  r. \n",
      "Subfundusz będzie lokował nie mniej niż 25% i nie więcej niż 50% wartości aktywów \n",
      "Subfunduszu  w  części  udziałowej.,  , Udział  części  dłużnej  wyniesie  nie  mniej  niż  50%  \n",
      "i nie więcej niż 75% wartości aktywów Subfunduszu.,  \n",
      "\n",
      "]\n"
     ]
    }
   ],
   "source": [
    "print(list(doc.sents))"
   ],
   "metadata": {
    "collapsed": false
   }
  },
  {
   "cell_type": "code",
   "execution_count": 82,
   "outputs": [
    {
     "name": "stdout",
     "output_type": "stream",
     "text": [
      "Cele i polityka inwestycyjna \n",
      "\n",
      "Celem inwestycyjnym Subfunduszu, jest wzrost wartości Aktywów Subfunduszu w \n",
      "wyniku wzrostu wartości lokat. Fundusz nie gwarantuje osiągnięcia celu inwestycyj-\n",
      "nego Subfunduszu. \n",
      "\n",
      "kryteria wskazane w art. 93 i 93a Ustawy o Funduszach Inwestycyjnych. \n",
      "Subfundusz może wykorzystywać instrumenty pochodne zarówno w celu ogranicze-\n",
      "nia ryzyka inwestycyjnego, jak i w celu zapewnienia sprawnego zarządzania portfe-\n",
      "lem inwestycyjnym. \n",
      "\n",
      "Fundusz może inwestować od 0% do 100% Aktywów Subfunduszu w instrumenty \n",
      "udziałowe, tj.: akcje oraz instrumenty finansowe o podobnym charakterze takie jak \n",
      "w szczególności: prawa poboru, prawa do akcji, warranty subskrypcyjne, kwity \n",
      "depozytowe, których bazą są akcje (lub inne prawa majątkowe inkorporujące prawa \n",
      "z akcji), obligacje zamienne na akcje, a także inne zbywalne papiery wartościowe \n",
      "inkorporujące prawa majątkowe odpowiadające prawom z akcji. \n",
      "\n",
      "Subfundusz realizuje nabycia i odkupienia jednostek uczestnictwa w każdym dniu \n",
      "wyceny, z zastrzeżeniem przypadków zawieszenia zbywania lub odkupywania jed-\n",
      "nostek uczestnictwa w wyniku nadzwyczajnych okoliczności. \n",
      "\n",
      "Poziom referencyjny (benchmark Subfunduszu): Subfundusz nie odnosi wyników do \n",
      "benchmarku inwestycyjnego. \n",
      "\n",
      "Fundusz może inwestować od 0% do 100% Aktywów Subfunduszu w instrumenty \n",
      "dłużne, tj.: obligacje, bony skarbowe, listy zastawne, certyfikaty depozytowe, a \n",
      "ponadto także w dłużne papiery wartościowe i Instrumenty Rynku Pieniężnego \n",
      "emitowane przez przedsiębiorstwa pod warunkiem, że instrumenty te spełniają \n",
      "\n",
      "Subfundusz nie wypłaca dochodów, dochody Subfunduszu powiększają jego aktywa \n",
      "i są reinwestowane. \n",
      "\n",
      "Zalecenie: Subfundusz może nie być odpowiedni dla osób, które planują wycofać \n",
      "swoje środki w terminie krótszym niż 4 lata. \n",
      "\n",
      "\n"
     ]
    }
   ],
   "source": [
    "print(cele_i_polityka.replace('  ',' '))"
   ],
   "metadata": {
    "collapsed": false
   }
  },
  {
   "cell_type": "code",
   "execution_count": 87,
   "outputs": [],
   "source": [
    "from spacy.matcher import Matcher\n",
    "pattern = [{\"LOWER\":\"jednostek\"}, {\"LOWER\":\"uczestnictwa\"}, {}, {}, {}]\n",
    "CZOIJUDICT = {'dzień': 'D', 'tydzień': 'W', 'kwartał': 'Q', 'miesiąc': 'M', 'dziennie':'D', 'codziennie': 'D', 'cotygodniowo': 'W', 'kwartalnie': 'Q', 'miesięcznie': 'M'}\n",
    "def get_czioju(row):\n",
    "    cele_i_polityka = row['cele_i_polityka']\n",
    "    doc = nlp(cele_i_polityka)\n",
    "    matcher = Matcher(nlp.vocab)\n",
    "    czioju = []\n",
    "    matcher.add('test_pat', [pattern])\n",
    "    matches = matcher(doc)\n",
    "    for match in matches:\n",
    "        czioju.append(doc[match[1]:match[2]])\n",
    "    if len(czioju) == 1:\n",
    "        return CZOIJUDICT.get(czioju[0], None)\n",
    "    elif len(czioju) == 0:\n",
    "        return None\n",
    "    else:\n",
    "        return CZOIJUDICT.get(czioju[-1], None)\n"
   ],
   "metadata": {
    "collapsed": false
   }
  },
  {
   "cell_type": "code",
   "execution_count": null,
   "outputs": [],
   "source": [
    "pattern = [{\"LOWER\":\"nie\"}, {\"LEMMA\":\"wypłaca\"}, {\"OP\":\"?\"}, {}]\n",
    "\n",
    "def get_dywidenda(row):\n",
    "    matcher = Matcher(nlp.vocab)\n",
    "    cele_i_polityka = row['cele_i_polityka']\n",
    "    doc = nlp(cele_i_polityka)\n",
    "    dyws = []\n",
    "    matcher.add('dywidenda_pattern', pattern)\n",
    "    matches = matcher(doc)\n",
    "    for match in matches:\n",
    "        dyws.append(doc[match[1]:match[2]])\n",
    "    if len(dyws) > 0:\n",
    "        return False\n",
    "    return True"
   ],
   "metadata": {
    "collapsed": false
   }
  },
  {
   "cell_type": "code",
   "execution_count": 89,
   "outputs": [
    {
     "data": {
      "text/plain": "[(18324528750915213551, 164, 169)]"
     },
     "execution_count": 89,
     "metadata": {},
     "output_type": "execute_result"
    }
   ],
   "source": [
    "matches\n"
   ],
   "metadata": {
    "collapsed": false
   }
  },
  {
   "cell_type": "code",
   "execution_count": 90,
   "outputs": [
    {
     "data": {
      "text/plain": "jednostek uczestnictwa w każdym dniu"
     },
     "execution_count": 90,
     "metadata": {},
     "output_type": "execute_result"
    }
   ],
   "source": [
    "doc[164:169]"
   ],
   "metadata": {
    "collapsed": false
   }
  },
  {
   "cell_type": "code",
   "execution_count": 43,
   "outputs": [
    {
     "name": "stderr",
     "output_type": "stream",
     "text": [
      "/home/mikolaj/.venv/lib/python3.8/site-packages/spacy/glossary.py:19: UserWarning: [W118] Term 'BEDZIE' not found in glossary. It may however be explained in documentation for the corpora used to train the language. Please check `nlp.meta[\"sources\"]` for any relevant links.\n",
      "  warnings.warn(Warnings.W118.format(term=term))\n"
     ]
    }
   ],
   "source": [
    "spacy.explain(\"\")"
   ],
   "metadata": {
    "collapsed": false
   }
  }
 ],
 "metadata": {
  "kernelspec": {
   "display_name": "Python 3",
   "language": "python",
   "name": "python3"
  },
  "language_info": {
   "codemirror_mode": {
    "name": "ipython",
    "version": 2
   },
   "file_extension": ".py",
   "mimetype": "text/x-python",
   "name": "python",
   "nbconvert_exporter": "python",
   "pygments_lexer": "ipython2",
   "version": "2.7.6"
  }
 },
 "nbformat": 4,
 "nbformat_minor": 0
}
