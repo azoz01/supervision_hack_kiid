{
 "cells": [
  {
   "cell_type": "code",
   "execution_count": 3,
   "metadata": {},
   "outputs": [],
   "source": [
    "import pandas as pd"
   ]
  },
  {
   "cell_type": "code",
   "execution_count": 48,
   "metadata": {},
   "outputs": [],
   "source": [
    "def lcs(X, Y):\n",
    "    \n",
    "    max_error = len(X) // 20\n",
    " \n",
    "    # find the length of the strings\n",
    "    m = len(X)\n",
    "    n = len(Y)\n",
    " \n",
    "    # declaring the array for storing the dp values\n",
    "    L = [[None]*(n + 1) for i in range(m + 1)]\n",
    "\n",
    "    for i in range(m + 1):\n",
    "        for j in range(n + 1):\n",
    "            if i == 0 or j == 0 :\n",
    "                L[i][j] = 0\n",
    "            elif X[i-1] == Y[j-1]:\n",
    "                L[i][j] = L[i-1][j-1]+1\n",
    "            else:\n",
    "                # cnt += 1\n",
    "                L[i][j] = max(L[i-1][j], L[i][j-1])\n",
    "                \n",
    "            # if cnt > max_error + m:\n",
    "                # continue\n",
    "            \n",
    "    print(L[m][n])\n",
    "    # if abs(L[max_error][n]) - m <  max_error:\n",
    "        # return False\n",
    "    # else:\n",
    "        # return True"
   ]
  },
  {
   "cell_type": "code",
   "execution_count": 12,
   "metadata": {},
   "outputs": [],
   "source": [
    "intro_text = ' '.join(df.intro[0].split())\n",
    "key_phrase = 'Niniejszy dokument zawiera kluczowe informacje dla inwestorów dotyczące tego funduszu. Nie są to materiały marketingowe. Dostarczenie tych informacji jest wymogiem prawnym mającym na celu ułatwienie zrozumienia charakteru i ryzyka związanego z inwestowaniem w ten fundusz. Przeczytanie niniejszego dokumentu jest zalecane inwestorowi, aby mógł on podjąć świadomą decyzję inwestycyjną.'"
   ]
  },
  {
   "cell_type": "code",
   "execution_count": 96,
   "metadata": {},
   "outputs": [
    {
     "name": "stdout",
     "output_type": "stream",
     "text": [
      "384\n"
     ]
    }
   ],
   "source": [
    "# intro_text\n",
    "print(len(key_phrase))\n",
    "intro_text = 'Kluowe informacje dla Inwestorów Niniejszy dok zawiera kluczowe informacje dla Inwestorów dotyczące tego Subfunduszu. Nie są to cipa materiały marketingowe. Dostarczenie tych informacji jest wymogiem prawnym mającym na celu ułatwienie zrozumienia charakteru i ryzyka związanego z inwestowaniem w ten Subfundusz. Przeczytanie niniejszego dokumentu jest zalecane Inwestorowi, aby mógł on podjąć świadomą decyzję inwestycyjną. Subfundusz Obligacji Globalnych Millennium Specjalistyczny Fundusz Inwestycyjny Otwarty Kategoria jednostki uczestnictwa: A (reprezentatywna dla kategorii B) zarządzany przez Millennium TFI S.A. należące do grupy Banku Millennium Nr w rejestrze funduszy inwestycyjnych – 182'"
   ]
  },
  {
   "cell_type": "code",
   "execution_count": 49,
   "metadata": {},
   "outputs": [
    {
     "name": "stdout",
     "output_type": "stream",
     "text": [
      "382\n"
     ]
    }
   ],
   "source": [
    "lcs(key_phrase, intro_text)"
   ]
  },
  {
   "cell_type": "code",
   "execution_count": 4,
   "metadata": {},
   "outputs": [],
   "source": [
    "df = pd.read_parquet('./../data/parsed/kiids_parsed.parquet')"
   ]
  },
  {
   "cell_type": "code",
   "execution_count": 7,
   "metadata": {},
   "outputs": [
    {
     "data": {
      "text/html": [
       "<div>\n",
       "<style scoped>\n",
       "    .dataframe tbody tr th:only-of-type {\n",
       "        vertical-align: middle;\n",
       "    }\n",
       "\n",
       "    .dataframe tbody tr th {\n",
       "        vertical-align: top;\n",
       "    }\n",
       "\n",
       "    .dataframe thead th {\n",
       "        text-align: right;\n",
       "    }\n",
       "</style>\n",
       "<table border=\"1\" class=\"dataframe\">\n",
       "  <thead>\n",
       "    <tr style=\"text-align: right;\">\n",
       "      <th></th>\n",
       "      <th>filename</th>\n",
       "      <th>raw_text</th>\n",
       "      <th>intro</th>\n",
       "      <th>cele i polityka inwestycyjna</th>\n",
       "      <th>profil ryzyka i zysku</th>\n",
       "      <th>opłaty</th>\n",
       "      <th>wyniki osiągnięte w przeszłości</th>\n",
       "      <th>informacje praktyczne</th>\n",
       "      <th>srri</th>\n",
       "    </tr>\n",
       "  </thead>\n",
       "  <tbody>\n",
       "    <tr>\n",
       "      <th>0</th>\n",
       "      <td>kiid.pdf</td>\n",
       "      <td>Kluczowe informacje dla Inwestorów \\n\\nNiniejs...</td>\n",
       "      <td>Kluczowe informacje dla Inwestorów \\n\\nNiniejs...</td>\n",
       "      <td>CELE I POLITYKA INWESTYCYJNA \\n\\nCelem  inwest...</td>\n",
       "      <td>PROFIL RYZYKA I ZYSKU \\n\\nNiższe ryzyko\\n\\nWyż...</td>\n",
       "      <td>OPŁATY \\n\\nJednorazowe  opłaty  pobierane  prz...</td>\n",
       "      <td>WYNIKI OSIĄGNIĘTE W PRZESZŁOŚCI \\n\\nRoczne sto...</td>\n",
       "      <td>INFORMACJE PRAKTYCZNE \\n\\nDepozytariuszem Subf...</td>\n",
       "      <td>-1.0</td>\n",
       "    </tr>\n",
       "    <tr>\n",
       "      <th>1</th>\n",
       "      <td>Investor_PPK_2035_KII_21.02.2022.pdf</td>\n",
       "      <td>Kluczowe Informacje dla Inwestorów\\n\\nNiniejsz...</td>\n",
       "      <td>Kluczowe Informacje dla Inwestorów\\n\\nNiniejsz...</td>\n",
       "      <td>Cele i polityka inwestycyjna\\n\\n• Celem Subfun...</td>\n",
       "      <td>Profil ryzyka i zysku\\n\\n1\\n\\n2\\n\\n3\\n\\n4\\n\\n5...</td>\n",
       "      <td>Opłaty związane z subfunduszem\\n\\nIdentyfikato...</td>\n",
       "      <td>Wyniki osiągnięte w przeszłości\\n\\nWyniki rocz...</td>\n",
       "      <td>Informacje praktyczne\\n• Depozytariuszem Subfu...</td>\n",
       "      <td>4.0</td>\n",
       "    </tr>\n",
       "  </tbody>\n",
       "</table>\n",
       "</div>"
      ],
      "text/plain": [
       "                               filename  \\\n",
       "0                              kiid.pdf   \n",
       "1  Investor_PPK_2035_KII_21.02.2022.pdf   \n",
       "\n",
       "                                            raw_text  \\\n",
       "0  Kluczowe informacje dla Inwestorów \\n\\nNiniejs...   \n",
       "1  Kluczowe Informacje dla Inwestorów\\n\\nNiniejsz...   \n",
       "\n",
       "                                               intro  \\\n",
       "0  Kluczowe informacje dla Inwestorów \\n\\nNiniejs...   \n",
       "1  Kluczowe Informacje dla Inwestorów\\n\\nNiniejsz...   \n",
       "\n",
       "                        cele i polityka inwestycyjna  \\\n",
       "0  CELE I POLITYKA INWESTYCYJNA \\n\\nCelem  inwest...   \n",
       "1  Cele i polityka inwestycyjna\\n\\n• Celem Subfun...   \n",
       "\n",
       "                               profil ryzyka i zysku  \\\n",
       "0  PROFIL RYZYKA I ZYSKU \\n\\nNiższe ryzyko\\n\\nWyż...   \n",
       "1  Profil ryzyka i zysku\\n\\n1\\n\\n2\\n\\n3\\n\\n4\\n\\n5...   \n",
       "\n",
       "                                              opłaty  \\\n",
       "0  OPŁATY \\n\\nJednorazowe  opłaty  pobierane  prz...   \n",
       "1  Opłaty związane z subfunduszem\\n\\nIdentyfikato...   \n",
       "\n",
       "                     wyniki osiągnięte w przeszłości  \\\n",
       "0  WYNIKI OSIĄGNIĘTE W PRZESZŁOŚCI \\n\\nRoczne sto...   \n",
       "1  Wyniki osiągnięte w przeszłości\\n\\nWyniki rocz...   \n",
       "\n",
       "                               informacje praktyczne  srri  \n",
       "0  INFORMACJE PRAKTYCZNE \\n\\nDepozytariuszem Subf...  -1.0  \n",
       "1  Informacje praktyczne\\n• Depozytariuszem Subfu...   4.0  "
      ]
     },
     "execution_count": 7,
     "metadata": {},
     "output_type": "execute_result"
    }
   ],
   "source": [
    "df"
   ]
  },
  {
   "cell_type": "code",
   "execution_count": null,
   "metadata": {},
   "outputs": [],
   "source": [
    "def my_lsq(key_phrase, text):\n",
    "    n = len(key_phrase)\n",
    "    m = len(text)\n",
    "    \n",
    "    max_error = n // 2\n",
    "    \n",
    "    for i in range(m+1):\n",
    "        cnt = 0\n",
    "        for j in range(i, max(i+n+max_error, n+1):\n",
    "            if text[i] == \n",
    "            "
   ]
  },
  {
   "cell_type": "code",
   "execution_count": 92,
   "metadata": {},
   "outputs": [],
   "source": [
    "def lcs(X, Y):\n",
    "    # find the length of the strings\n",
    "    m = len(X)\n",
    "    n = len(Y)\n",
    " \n",
    "    # declaring the array for storing the dp values\n",
    "    L = [[None]*(n + 1) for i in range(m + 1)]\n",
    "    \n",
    "    M = [[None]*(n + 1) for i in range(m + 1)]\n",
    "    \n",
    "    missing_in_text = [[None]*(n + 1) for i in range(m + 1)]\n",
    "    missing_in_key = [[None]*(n + 1) for i in range(m + 1)]\n",
    " \n",
    "    for i in range(m + 1):\n",
    "        for j in range(n + 1):\n",
    "            if i == 0 or j == 0 :\n",
    "                L[i][j] = 0\n",
    "                M[i][j] = ''\n",
    "                missing_in_text[i][j] = 0\n",
    "                missing_in_key[i][j] = 0                \n",
    "            elif X[i-1] == Y[j-1]:\n",
    "                L[i][j] = L[i-1][j-1]+1\n",
    "                M[i][j] = M[i-1][j-1] + Y[j-1]\n",
    "                missing_in_text[i][j] = missing_in_text[i-1][j-1]\n",
    "                missing_in_key[i][j] = missing_in_key[i-1][j-1]                \n",
    "            else:\n",
    "                L[i][j] = max(L[i-1][j], L[i][j-1])\n",
    "                M[i][j] =  M[i-1][j] + '_' if L[i-1][j] > L[i][j-1] else M[i][j-1] + '^'\n",
    "                if L[i-1][j] > L[i][j-1]:\n",
    "                    missing_in_text[i][j] = missing_in_text[i-1][j] + 1\n",
    "                    missing_in_key[i][j] = missing_in_key[i-1][j]    \n",
    "                else:\n",
    "                    missing_in_text[i][j] = missing_in_text[i][j-1]\n",
    "                    missing_in_key[i][j] = missing_in_key[i][j-1] + 1 \n",
    "                \n",
    " \n",
    "    # L[m][n] contains the length of LCS of X[0..n-1] & Y[0..m-1]\n",
    "    print(M[m][n])\n",
    "    print(f'missing in key: {missing_in_key[m][n]}')\n",
    "    print(f'missing in text: {missing_in_text[m][n]}')\n",
    "    return M[m][n]"
   ]
  },
  {
   "cell_type": "code",
   "execution_count": 98,
   "metadata": {},
   "outputs": [
    {
     "data": {
      "text/plain": [
       "'Kluowe informacje dla Inwestorów Niniejszy dok zawiera kluczowe informacje dla Inwestorów dotyczące tego Subfunduszu. Nie są to cipa materiały marketingowe. Dostarczenie tych informacji jest wymogiem prawnym mającym na celu ułatwienie zrozumienia charakteru i ryzyka związanego z inwestowaniem w ten Subfundusz. Przeczytanie niniejszego dokumentu jest zalecane Inwestorowi, aby mógł on podjąć świadomą decyzję inwestycyjną. Subfundusz Obligacji Globalnych Millennium Specjalistyczny Fundusz Inwestycyjny Otwarty Kategoria jednostki uczestnictwa: A (reprezentatywna dla kategorii B) zarządzany przez Millennium TFI S.A. należące do grupy Banku Millennium Nr w rejestrze funduszy inwestycyjnych – 182'"
      ]
     },
     "execution_count": 98,
     "metadata": {},
     "output_type": "execute_result"
    }
   ],
   "source": [
    "intro_text"
   ]
  },
  {
   "cell_type": "code",
   "execution_count": 97,
   "metadata": {},
   "outputs": [
    {
     "name": "stdout",
     "output_type": "stream",
     "text": [
      "Niniejszy dok_____ zawiera kluczowe informacje dla _^nwestorów dotyczące tego ^^^funduszu. Nie są to^^^^^ materiały marketingowe. Dostarczenie tych informacji jest wymogiem prawnym mającym na celu ułatwienie zrozumienia charakteru i ryzyka związanego z inwestowaniem w ten ^^^fundusz. Przeczytanie niniejszego dokumentu jest zalecane _^nwestorowi, aby mógł on podjąć świadomą decyzję^^^^^^^^^^^^^^^^^^^^^^^^^^^^^^^^^^^^^^^^^^^^^^^^^^^^^^^^^ ^^^^^^^i^^^^^^^^^^^^^^^^^nwestyc^^^^^^^^^^^y^^^^^^^^^^^j^^^^^^^^^^^^^^^^^^^^^^^^^^^^^^^^^^^^^^^n^^^^^^^^^^^^^^^^^^^^^^^ą^^^^^^^^^^^^^^^^^^^^^^^^^^^^^^.^^^^^^^^^^^^^^^^^^^^^^^^^^^^^^^^^^^^^^^^^^^^^^^^^^^^^^^^^^^^^^^^^^^^^^^^^^^^^^^^\n",
      "missing in key: 288\n",
      "missing in text: 7\n"
     ]
    }
   ],
   "source": [
    "parsed_text = lcs(key_phrase, intro_text)"
   ]
  }
 ],
 "metadata": {
  "kernelspec": {
   "display_name": "Python 3.8.13 ('hack_venv')",
   "language": "python",
   "name": "python3"
  },
  "language_info": {
   "codemirror_mode": {
    "name": "ipython",
    "version": 3
   },
   "file_extension": ".py",
   "mimetype": "text/x-python",
   "name": "python",
   "nbconvert_exporter": "python",
   "pygments_lexer": "ipython3",
   "version": "3.8.13"
  },
  "orig_nbformat": 4,
  "vscode": {
   "interpreter": {
    "hash": "e98807ee2f3da63852960dc6020a5ec887e95e81874581de0b8e6ab43381f528"
   }
  }
 },
 "nbformat": 4,
 "nbformat_minor": 2
}
