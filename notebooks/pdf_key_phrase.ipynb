{
 "cells": [
  {
   "cell_type": "code",
   "execution_count": 1,
   "metadata": {},
   "outputs": [],
   "source": [
    "import pandas as pd"
   ]
  },
  {
   "cell_type": "code",
   "execution_count": 2,
   "metadata": {},
   "outputs": [],
   "source": [
    "# intro_text\n",
    "intro_text = 'Kluowe informacje dla Inwestorów Niniejszy dok zawiera kluczowe informacje dla Inwestorów dotyczące tego Subfunduszu. Nie są to cipa materiały marketingowe. Dostarczenie tych informacji jest wymogiem prawnym mającym na celu ułatwienie zrozumienia charakteru i ryzyka związanego z inwestowaniem w ten Subfundusz. Przeczytanie niniejszego dokumentu jest zalecane Inwestorowi, aby mógł on podjąć świadomą decyzję inwestycyjną. Subfundusz Obligacji Globalnych Millennium Specjalistyczny Fundusz Inwestycyjny Otwarty Kategoria jednostki uczestnictwa: A (reprezentatywna dla kategorii B) zarządzany przez Millennium TFI S.A. należące do grupy Banku Millennium Nr w rejestrze funduszy inwestycyjnych – 182'"
   ]
  },
  {
   "cell_type": "code",
   "execution_count": 3,
   "metadata": {},
   "outputs": [],
   "source": [
    "df = pd.read_parquet('./../data/parsed/kiids_parsed.parquet')"
   ]
  },
  {
   "cell_type": "code",
   "execution_count": 4,
   "metadata": {},
   "outputs": [
    {
     "data": {
      "text/html": [
       "<div>\n",
       "<style scoped>\n",
       "    .dataframe tbody tr th:only-of-type {\n",
       "        vertical-align: middle;\n",
       "    }\n",
       "\n",
       "    .dataframe tbody tr th {\n",
       "        vertical-align: top;\n",
       "    }\n",
       "\n",
       "    .dataframe thead th {\n",
       "        text-align: right;\n",
       "    }\n",
       "</style>\n",
       "<table border=\"1\" class=\"dataframe\">\n",
       "  <thead>\n",
       "    <tr style=\"text-align: right;\">\n",
       "      <th></th>\n",
       "      <th>filename</th>\n",
       "      <th>raw_text</th>\n",
       "      <th>intro</th>\n",
       "      <th>cele i polityka inwestycyjna</th>\n",
       "      <th>profil ryzyka i zysku</th>\n",
       "      <th>opłaty</th>\n",
       "      <th>wyniki osiągnięte w przeszłości</th>\n",
       "      <th>informacje praktyczne</th>\n",
       "      <th>srri</th>\n",
       "    </tr>\n",
       "  </thead>\n",
       "  <tbody>\n",
       "    <tr>\n",
       "      <th>0</th>\n",
       "      <td>kiid.pdf</td>\n",
       "      <td>Kluczowe informacje dla Inwestorów \\n\\nNiniejs...</td>\n",
       "      <td>Kluczowe informacje dla Inwestorów \\n\\nNiniejs...</td>\n",
       "      <td>CELE I POLITYKA INWESTYCYJNA \\n\\nCelem  inwest...</td>\n",
       "      <td>PROFIL RYZYKA I ZYSKU \\n\\nNiższe ryzyko\\n\\nWyż...</td>\n",
       "      <td>OPŁATY \\n\\nJednorazowe  opłaty  pobierane  prz...</td>\n",
       "      <td>WYNIKI OSIĄGNIĘTE W PRZESZŁOŚCI \\n\\nRoczne sto...</td>\n",
       "      <td>INFORMACJE PRAKTYCZNE \\n\\nDepozytariuszem Subf...</td>\n",
       "      <td>-1.0</td>\n",
       "    </tr>\n",
       "    <tr>\n",
       "      <th>1</th>\n",
       "      <td>Investor_PPK_2035_KII_21.02.2022.pdf</td>\n",
       "      <td>Kluczowe Informacje dla Inwestorów\\n\\nNiniejsz...</td>\n",
       "      <td>Kluczowe Informacje dla Inwestorów\\n\\nNiniejsz...</td>\n",
       "      <td>Cele i polityka inwestycyjna\\n\\n• Celem Subfun...</td>\n",
       "      <td>Profil ryzyka i zysku\\n\\n1\\n\\n2\\n\\n3\\n\\n4\\n\\n5...</td>\n",
       "      <td>Opłaty związane z subfunduszem\\n\\nIdentyfikato...</td>\n",
       "      <td>Wyniki osiągnięte w przeszłości\\n\\nWyniki rocz...</td>\n",
       "      <td>Informacje praktyczne\\n• Depozytariuszem Subfu...</td>\n",
       "      <td>4.0</td>\n",
       "    </tr>\n",
       "  </tbody>\n",
       "</table>\n",
       "</div>"
      ],
      "text/plain": [
       "                               filename  \\\n",
       "0                              kiid.pdf   \n",
       "1  Investor_PPK_2035_KII_21.02.2022.pdf   \n",
       "\n",
       "                                            raw_text  \\\n",
       "0  Kluczowe informacje dla Inwestorów \\n\\nNiniejs...   \n",
       "1  Kluczowe Informacje dla Inwestorów\\n\\nNiniejsz...   \n",
       "\n",
       "                                               intro  \\\n",
       "0  Kluczowe informacje dla Inwestorów \\n\\nNiniejs...   \n",
       "1  Kluczowe Informacje dla Inwestorów\\n\\nNiniejsz...   \n",
       "\n",
       "                        cele i polityka inwestycyjna  \\\n",
       "0  CELE I POLITYKA INWESTYCYJNA \\n\\nCelem  inwest...   \n",
       "1  Cele i polityka inwestycyjna\\n\\n• Celem Subfun...   \n",
       "\n",
       "                               profil ryzyka i zysku  \\\n",
       "0  PROFIL RYZYKA I ZYSKU \\n\\nNiższe ryzyko\\n\\nWyż...   \n",
       "1  Profil ryzyka i zysku\\n\\n1\\n\\n2\\n\\n3\\n\\n4\\n\\n5...   \n",
       "\n",
       "                                              opłaty  \\\n",
       "0  OPŁATY \\n\\nJednorazowe  opłaty  pobierane  prz...   \n",
       "1  Opłaty związane z subfunduszem\\n\\nIdentyfikato...   \n",
       "\n",
       "                     wyniki osiągnięte w przeszłości  \\\n",
       "0  WYNIKI OSIĄGNIĘTE W PRZESZŁOŚCI \\n\\nRoczne sto...   \n",
       "1  Wyniki osiągnięte w przeszłości\\n\\nWyniki rocz...   \n",
       "\n",
       "                               informacje praktyczne  srri  \n",
       "0  INFORMACJE PRAKTYCZNE \\n\\nDepozytariuszem Subf...  -1.0  \n",
       "1  Informacje praktyczne\\n• Depozytariuszem Subfu...   4.0  "
      ]
     },
     "execution_count": 4,
     "metadata": {},
     "output_type": "execute_result"
    }
   ],
   "source": [
    "df"
   ]
  },
  {
   "cell_type": "code",
   "execution_count": 27,
   "metadata": {},
   "outputs": [],
   "source": [
    "def lcs(X, Y, factor=20):\n",
    "    # find the length of the strings\n",
    "    m = len(X)\n",
    "    n = len(Y)\n",
    "    \n",
    "    max_error = m // factor\n",
    " \n",
    "    # declaring the array for storing the dp values\n",
    "    L = [[None]*(n + 1) for i in range(m + 1)]\n",
    "    M = [[None]*(n + 1) for i in range(m + 1)]\n",
    "    \n",
    "    missing_key = [[m]*(n + 1) for i in range(m + 1)]\n",
    "    missing_text = [[n]*(n + 1) for i in range(m + 1)]\n",
    " \n",
    "    \"\"\"Following steps build L[m + 1][n + 1] in bottom up fashion\n",
    "    Note: L[i][j] contains length of LCS of X[0..i-1]\n",
    "    and Y[0..j-1]\"\"\"\n",
    "    for i in range(m + 1):\n",
    "        for j in range(n + 1):\n",
    "            if i == 0 or j == 0 :\n",
    "                L[i][j] = 0\n",
    "                M[i][j] = ''\n",
    "                missing_key[i][j] = m\n",
    "                missing_text[i][j] = n\n",
    "            elif X[i-1] == Y[j-1]:\n",
    "                L[i][j] = L[i-1][j-1]+1\n",
    "                M[i][j] = M[i-1][j-1] + X[i-1]\n",
    "                missing_key[i][j] = missing_key[i-1][j-1] - 1\n",
    "                missing_text[i][j] = missing_text[i-1][j-1] - 1\n",
    "                \n",
    "            else:\n",
    "                # L[i][j] = max(L[i-1][j], L[i][j-1])\n",
    "                if L[i-1][j] > L[i][j-1]:\n",
    "                    L[i][j] = L[i-1][j]\n",
    "                    M[i][j] = M[i-1][j] + '_'\n",
    "                    missing_key[i][j] = missing_key[i-1][j] \n",
    "                    missing_text[i][j] = missing_text[i-1][j] - 1                \n",
    "                else:\n",
    "                    L[i][j] = L[i][j-1]\n",
    "                    M[i][j] = M[i][j-1] + '^'\n",
    "                    missing_key[i][j] = missing_key[i][j-1] - 1\n",
    "                    missing_text[i][j] = missing_text[i][j-1] \n",
    "                    \n",
    "            if M[i][j] == X:\n",
    "                return True\n",
    "                    \n",
    " \n",
    "    # L[m][n] contains the length of LCS of X[0..n-1] & Y[0..m-1]\n",
    "    root = M[m][n][:m+max_error].rstrip('^').rstrip('_')\n",
    "    total_err = root.count('^') + root.count('_')\n",
    "    \n",
    "    return total_err <= max_error * 2"
   ]
  },
  {
   "cell_type": "code",
   "execution_count": 6,
   "metadata": {},
   "outputs": [
    {
     "data": {
      "text/plain": [
       "'Kluowe informacje dla Inwestorów Niniejszy dok zawiera kluczowe informacje dla Inwestorów dotyczące tego Subfunduszu. Nie są to cipa materiały marketingowe. Dostarczenie tych informacji jest wymogiem prawnym mającym na celu ułatwienie zrozumienia charakteru i ryzyka związanego z inwestowaniem w ten Subfundusz. Przeczytanie niniejszego dokumentu jest zalecane Inwestorowi, aby mógł on podjąć świadomą decyzję inwestycyjną. Subfundusz Obligacji Globalnych Millennium Specjalistyczny Fundusz Inwestycyjny Otwarty Kategoria jednostki uczestnictwa: A (reprezentatywna dla kategorii B) zarządzany przez Millennium TFI S.A. należące do grupy Banku Millennium Nr w rejestrze funduszy inwestycyjnych – 182'"
      ]
     },
     "execution_count": 6,
     "metadata": {},
     "output_type": "execute_result"
    }
   ],
   "source": [
    "intro_text"
   ]
  },
  {
   "cell_type": "code",
   "execution_count": 7,
   "metadata": {},
   "outputs": [],
   "source": [
    "oplaty_text = df.iloc[0]['opłaty']\n",
    "key_phrase = 'Opłata za umorzenie'"
   ]
  },
  {
   "cell_type": "markdown",
   "metadata": {},
   "source": [
    "# Keep things together"
   ]
  },
  {
   "cell_type": "code",
   "execution_count": 8,
   "metadata": {},
   "outputs": [],
   "source": [
    "KEY_PHRASES_DICT = {\n",
    "    'Kluczowe informacje dla inwestorów': 'intro',\n",
    "    'Niniejszy dokument zawiera kluczowe informacje dla inwestorów dotyczące tego funduszu. Nie są to materiały marketingowe. Dostarczenie tych informacji jest wymogiem prawnym mającym na celu ułatwienie zrozumienia charakteru i ryzyka związanego z inwestowaniem w ten fundusz. Przeczytanie niniejszego dokumentu jest zalecane inwestorowi, aby mógł on podjąć świadomą decyzję inwestycyjną.' : 'intro',\n",
    "    'Niniejsze kluczowe informacje dla inwestorów są aktualne na dzień': 'informacje praktyczne',\n",
    "    'Fundusz otrzymał zezwolenie na prowadzenie działalności w': 'raw_text',\n",
    "    'Zalecenie: niniejszy fundusz może nie być odpowiedni dla inwestorów, którzy planują wycofać swoje środki w ciągu': 'cele i polityka inwestycyjna',\n",
    "    'może zostać pociągnięta do odpowiedzialności za każde oświadczenie zawarte w niniejszym dokumencie, które wprowadza w błąd, jest niezgodne ze stanem faktycznym lub niespójne z odpowiednimi częściami prospektu emisyjnego UCITS.': 'informacje praktyczne',\n",
    "    'Opłaty jednorazowe pobierane przed lub po dokonaniu inwestycji': 'opłaty',\n",
    "    'Opłata za subskrypcję': 'raw_text',\n",
    "    'Opłata za umorzenie': 'raw_text',\n",
    "    'Opłaty pobierane z funduszu w ciągu roku': 'opłaty',\n",
    "    'Opłaty bieżące': 'raw_text',\n",
    "    'Opłaty pobierane z funduszu w określonych warunkach szczególnych': 'raw_text',\n",
    "    'Opłata za wyniki': 'opłaty',\n",
    "    'Cele i polityka inwestycyjna': 'cele i polityka inwestycyjna',\n",
    "    'Profil ryzyka i zysku': 'profil ryzyka i zysku',\n",
    "    'Opłaty': 'opłaty',\n",
    "    'Wyniki osiągnięte w przeszłości': 'wyniki osiągnięte w przeszłości',\n",
    "    'Informacje praktyczne': 'informacje praktyczne'\n",
    "    }"
   ]
  },
  {
   "cell_type": "code",
   "execution_count": 9,
   "metadata": {},
   "outputs": [],
   "source": [
    "doc = df.iloc[0]"
   ]
  },
  {
   "cell_type": "code",
   "execution_count": 10,
   "metadata": {},
   "outputs": [
    {
     "data": {
      "text/plain": [
       "filename                                                                    kiid.pdf\n",
       "raw_text                           Kluczowe informacje dla Inwestorów \\n\\nNiniejs...\n",
       "intro                              Kluczowe informacje dla Inwestorów \\n\\nNiniejs...\n",
       "cele i polityka inwestycyjna       CELE I POLITYKA INWESTYCYJNA \\n\\nCelem  inwest...\n",
       "profil ryzyka i zysku              PROFIL RYZYKA I ZYSKU \\n\\nNiższe ryzyko\\n\\nWyż...\n",
       "opłaty                             OPŁATY \\n\\nJednorazowe  opłaty  pobierane  prz...\n",
       "wyniki osiągnięte w przeszłości    WYNIKI OSIĄGNIĘTE W PRZESZŁOŚCI \\n\\nRoczne sto...\n",
       "informacje praktyczne              INFORMACJE PRAKTYCZNE \\n\\nDepozytariuszem Subf...\n",
       "srri                                                                            -1.0\n",
       "Name: 0, dtype: object"
      ]
     },
     "execution_count": 10,
     "metadata": {},
     "output_type": "execute_result"
    }
   ],
   "source": [
    "doc"
   ]
  },
  {
   "cell_type": "code",
   "execution_count": 28,
   "metadata": {},
   "outputs": [],
   "source": [
    "def check_doc(doc: pd.Series) -> pd.DataFrame:\n",
    "    phrases = []\n",
    "    does_exist = []\n",
    "    for phrase, col in KEY_PHRASES_DICT.items():\n",
    "        text = ' '.join(doc[col].lower().split())\n",
    "        phrase_flat = ' '.join(phrase.lower().split())\n",
    "        res = lcs(phrase_flat, text)\n",
    "        \n",
    "        phrases.append(phrase)\n",
    "        does_exist.append(res)\n",
    "        \n",
    "    df = pd.DataFrame(data={'WYRAZENIE' : phrases, 'FLAGA_WYSTAPIENIA': does_exist})\n",
    "    return df"
   ]
  },
  {
   "cell_type": "code",
   "execution_count": 29,
   "metadata": {},
   "outputs": [],
   "source": [
    "df_1 = check_doc(doc)"
   ]
  },
  {
   "cell_type": "code",
   "execution_count": 32,
   "metadata": {},
   "outputs": [
    {
     "data": {
      "text/html": [
       "<div>\n",
       "<style scoped>\n",
       "    .dataframe tbody tr th:only-of-type {\n",
       "        vertical-align: middle;\n",
       "    }\n",
       "\n",
       "    .dataframe tbody tr th {\n",
       "        vertical-align: top;\n",
       "    }\n",
       "\n",
       "    .dataframe thead th {\n",
       "        text-align: right;\n",
       "    }\n",
       "</style>\n",
       "<table border=\"1\" class=\"dataframe\">\n",
       "  <thead>\n",
       "    <tr style=\"text-align: right;\">\n",
       "      <th></th>\n",
       "      <th>WYRAZENIE</th>\n",
       "      <th>FLAGA_WYSTAPIENIA</th>\n",
       "    </tr>\n",
       "  </thead>\n",
       "  <tbody>\n",
       "    <tr>\n",
       "      <th>0</th>\n",
       "      <td>Kluczowe informacje dla inwestorów</td>\n",
       "      <td>True</td>\n",
       "    </tr>\n",
       "    <tr>\n",
       "      <th>1</th>\n",
       "      <td>Niniejszy dokument zawiera kluczowe informacje...</td>\n",
       "      <td>True</td>\n",
       "    </tr>\n",
       "    <tr>\n",
       "      <th>2</th>\n",
       "      <td>Niniejsze kluczowe informacje dla inwestorów s...</td>\n",
       "      <td>True</td>\n",
       "    </tr>\n",
       "    <tr>\n",
       "      <th>3</th>\n",
       "      <td>Fundusz otrzymał zezwolenie na prowadzenie dzi...</td>\n",
       "      <td>False</td>\n",
       "    </tr>\n",
       "    <tr>\n",
       "      <th>4</th>\n",
       "      <td>Zalecenie: niniejszy fundusz może nie być odpo...</td>\n",
       "      <td>False</td>\n",
       "    </tr>\n",
       "    <tr>\n",
       "      <th>5</th>\n",
       "      <td>może zostać pociągnięta do odpowiedzialności z...</td>\n",
       "      <td>True</td>\n",
       "    </tr>\n",
       "    <tr>\n",
       "      <th>6</th>\n",
       "      <td>Opłaty jednorazowe pobierane przed lub po doko...</td>\n",
       "      <td>False</td>\n",
       "    </tr>\n",
       "    <tr>\n",
       "      <th>7</th>\n",
       "      <td>Opłata za subskrypcję</td>\n",
       "      <td>True</td>\n",
       "    </tr>\n",
       "    <tr>\n",
       "      <th>8</th>\n",
       "      <td>Opłata za umorzenie</td>\n",
       "      <td>True</td>\n",
       "    </tr>\n",
       "    <tr>\n",
       "      <th>9</th>\n",
       "      <td>Opłaty pobierane z funduszu w ciągu roku</td>\n",
       "      <td>True</td>\n",
       "    </tr>\n",
       "    <tr>\n",
       "      <th>10</th>\n",
       "      <td>Opłaty bieżące</td>\n",
       "      <td>True</td>\n",
       "    </tr>\n",
       "    <tr>\n",
       "      <th>11</th>\n",
       "      <td>Opłaty pobierane z funduszu w określonych waru...</td>\n",
       "      <td>True</td>\n",
       "    </tr>\n",
       "    <tr>\n",
       "      <th>12</th>\n",
       "      <td>Opłata za wyniki</td>\n",
       "      <td>True</td>\n",
       "    </tr>\n",
       "    <tr>\n",
       "      <th>13</th>\n",
       "      <td>Cele i polityka inwestycyjna</td>\n",
       "      <td>True</td>\n",
       "    </tr>\n",
       "    <tr>\n",
       "      <th>14</th>\n",
       "      <td>Profil ryzyka i zysku</td>\n",
       "      <td>True</td>\n",
       "    </tr>\n",
       "    <tr>\n",
       "      <th>15</th>\n",
       "      <td>Opłaty</td>\n",
       "      <td>True</td>\n",
       "    </tr>\n",
       "    <tr>\n",
       "      <th>16</th>\n",
       "      <td>Wyniki osiągnięte w przeszłości</td>\n",
       "      <td>True</td>\n",
       "    </tr>\n",
       "    <tr>\n",
       "      <th>17</th>\n",
       "      <td>Informacje praktyczne</td>\n",
       "      <td>True</td>\n",
       "    </tr>\n",
       "  </tbody>\n",
       "</table>\n",
       "</div>"
      ],
      "text/plain": [
       "                                            WYRAZENIE  FLAGA_WYSTAPIENIA\n",
       "0                  Kluczowe informacje dla inwestorów               True\n",
       "1   Niniejszy dokument zawiera kluczowe informacje...               True\n",
       "2   Niniejsze kluczowe informacje dla inwestorów s...               True\n",
       "3   Fundusz otrzymał zezwolenie na prowadzenie dzi...              False\n",
       "4   Zalecenie: niniejszy fundusz może nie być odpo...              False\n",
       "5   może zostać pociągnięta do odpowiedzialności z...               True\n",
       "6   Opłaty jednorazowe pobierane przed lub po doko...              False\n",
       "7                               Opłata za subskrypcję               True\n",
       "8                                 Opłata za umorzenie               True\n",
       "9            Opłaty pobierane z funduszu w ciągu roku               True\n",
       "10                                     Opłaty bieżące               True\n",
       "11  Opłaty pobierane z funduszu w określonych waru...               True\n",
       "12                                   Opłata za wyniki               True\n",
       "13                       Cele i polityka inwestycyjna               True\n",
       "14                              Profil ryzyka i zysku               True\n",
       "15                                             Opłaty               True\n",
       "16                    Wyniki osiągnięte w przeszłości               True\n",
       "17                              Informacje praktyczne               True"
      ]
     },
     "execution_count": 32,
     "metadata": {},
     "output_type": "execute_result"
    }
   ],
   "source": [
    "df_1"
   ]
  }
 ],
 "metadata": {
  "kernelspec": {
   "display_name": "Python 3.8.13 ('hack_venv')",
   "language": "python",
   "name": "python3"
  },
  "language_info": {
   "codemirror_mode": {
    "name": "ipython",
    "version": 3
   },
   "file_extension": ".py",
   "mimetype": "text/x-python",
   "name": "python",
   "nbconvert_exporter": "python",
   "pygments_lexer": "ipython3",
   "version": "3.8.13"
  },
  "orig_nbformat": 4,
  "vscode": {
   "interpreter": {
    "hash": "e98807ee2f3da63852960dc6020a5ec887e95e81874581de0b8e6ab43381f528"
   }
  }
 },
 "nbformat": 4,
 "nbformat_minor": 2
}
