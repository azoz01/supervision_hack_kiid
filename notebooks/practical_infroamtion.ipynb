{
 "cells": [
  {
   "cell_type": "code",
   "execution_count": 1,
   "metadata": {},
   "outputs": [],
   "source": [
    "import pandas as pd\n",
    "import re"
   ]
  },
  {
   "cell_type": "code",
   "execution_count": null,
   "metadata": {},
   "outputs": [],
   "source": [
    "def split_text(text: str) -> list:\n",
    "    text = text.replace('\\n\\n', '<p>')\n",
    "    text = ' '.join(text.split())\n",
    "    text = text.replace('<p>', '\\n')\n",
    "    # text = text.lower()\n",
    "    return text"
   ]
  },
  {
   "cell_type": "code",
   "execution_count": 2,
   "metadata": {},
   "outputs": [],
   "source": [
    "df_path = '../data/parsed/kiids_parsed.parquet'"
   ]
  },
  {
   "cell_type": "code",
   "execution_count": 3,
   "metadata": {},
   "outputs": [],
   "source": [
    "df = pd.read_parquet(df_path)"
   ]
  },
  {
   "cell_type": "code",
   "execution_count": 4,
   "metadata": {},
   "outputs": [],
   "source": [
    "df_practial_info = df['informacje praktyczne']\n",
    "df_practial_info = df_practial_info[~df_practial_info.isna()]"
   ]
  },
  {
   "cell_type": "code",
   "execution_count": 5,
   "metadata": {},
   "outputs": [
    {
     "data": {
      "text/plain": [
       "0      INFORMACJE PRAKTYCZNE\\nNiniejszy dokument opis...\n",
       "1      Informacje praktyczne \\nDepozytariusz: Bank Pe...\n",
       "2                               INFORMACJE PRAKTYCZNE \\n\n",
       "3      Informacje praktyczne \\nSubfundusz został utwo...\n",
       "5      Informacje praktyczne \\nDepozytariusz: Bank Pe...\n",
       "                             ...                        \n",
       "396    Informacje praktyczne \\nSubfundusz został utwo...\n",
       "397    Informacje praktyczne \\nDepozytariusz: Bank Pe...\n",
       "398                             INFORMACJE PRAKTYCZNE \\n\n",
       "399    Informacje praktyczne \\nKluczowe informacje dl...\n",
       "400    Informacje praktyczne\\nKluczowe informacje dla...\n",
       "Name: informacje praktyczne, Length: 391, dtype: object"
      ]
     },
     "execution_count": 5,
     "metadata": {},
     "output_type": "execute_result"
    }
   ],
   "source": [
    "df_practial_info"
   ]
  },
  {
   "cell_type": "code",
   "execution_count": 7,
   "metadata": {},
   "outputs": [],
   "source": [
    "df_practial_info = df_practial_info.apply(split_text)"
   ]
  },
  {
   "cell_type": "code",
   "execution_count": 8,
   "metadata": {},
   "outputs": [
    {
     "data": {
      "text/plain": [
       "0      INFORMACJE PRAKTYCZNE Niniejszy dokument opisu...\n",
       "1      Informacje praktyczne Depozytariusz: Bank Peka...\n",
       "2                                  INFORMACJE PRAKTYCZNE\n",
       "3      Informacje praktyczne Subfundusz został utworz...\n",
       "5      Informacje praktyczne Depozytariusz: Bank Peka...\n",
       "                             ...                        \n",
       "396    Informacje praktyczne Subfundusz został utworz...\n",
       "397    Informacje praktyczne Depozytariusz: Bank Peka...\n",
       "398                                INFORMACJE PRAKTYCZNE\n",
       "399    Informacje praktyczne Kluczowe informacje dla ...\n",
       "400    Informacje praktyczne Kluczowe informacje dla ...\n",
       "Name: informacje praktyczne, Length: 391, dtype: object"
      ]
     },
     "execution_count": 8,
     "metadata": {},
     "output_type": "execute_result"
    }
   ],
   "source": [
    "df_practial_info"
   ]
  },
  {
   "cell_type": "markdown",
   "metadata": {},
   "source": [
    "# Depositary"
   ]
  },
  {
   "cell_type": "code",
   "execution_count": 47,
   "metadata": {},
   "outputs": [],
   "source": [
    "depo_regex = re.compile('depozytariusz(em.*jest)?:?\\s*(.*?)(S\\.A)?(\\.|,|;)', re.IGNORECASE)\n",
    "not_depo_regex = re.compile('(niezgodne.*)|(to\\s)')"
   ]
  },
  {
   "cell_type": "code",
   "execution_count": 48,
   "metadata": {},
   "outputs": [],
   "source": [
    "def get_depo(text: str) -> str or None:\n",
    "    regex = depo_regex.search(text)\n",
    "    if regex is None:\n",
    "        return None\n",
    "    else:     \n",
    "        if not_depo_regex.search(regex.group(2)):\n",
    "            return None\n",
    "        \n",
    "        if regex.group(3) is not None:\n",
    "            return regex.group(2) + regex.group(3)\n",
    "        else:\n",
    "            return regex.group(2)"
   ]
  },
  {
   "cell_type": "code",
   "execution_count": 49,
   "metadata": {},
   "outputs": [],
   "source": [
    "df_depo_re = df_practial_info.apply(get_depo)"
   ]
  },
  {
   "cell_type": "code",
   "execution_count": 50,
   "metadata": {},
   "outputs": [
    {
     "data": {
      "text/plain": [
       "array(['Bank Handlowy w Warszawie SA', 'Bank Pekao S.A',\n",
       "       'Depozytariuszem funduszu jest mBank S.A',\n",
       "       'Deutsche Bank Polska Akcyjna z siedzibą w Warszawie',\n",
       "       'ING Bank Śląski S.A', 'PKO Bank Polski S.A',\n",
       "       'Deutsche Bank Polska Spółka Akcyjna z siedzibą w Warszawie',\n",
       "       'mBank S.A', 'BNP Paribas Bank Polska S.A',\n",
       "       'określona w tych umowach lub zasadach',\n",
       "       'Bank Handlowy w Warszawie S.A',\n",
       "       'Bank Polska Kasa Opieki Spółka Akcyjna z siedzibą w Warszawie'],\n",
       "      dtype=object)"
      ]
     },
     "execution_count": 50,
     "metadata": {},
     "output_type": "execute_result"
    }
   ],
   "source": [
    "df_depo_re[~df_depo_re.isna()].unique()"
   ]
  },
  {
   "cell_type": "markdown",
   "metadata": {},
   "source": [
    "\n",
    "# KRS"
   ]
  },
  {
   "cell_type": "code",
   "execution_count": 76,
   "metadata": {},
   "outputs": [],
   "source": [
    "krs_regex = re.compile('(krs:?\\s*)([0-9]{9})', re.IGNORECASE)"
   ]
  },
  {
   "cell_type": "code",
   "execution_count": 86,
   "metadata": {},
   "outputs": [],
   "source": [
    "def get_krs(text: str) -> str or None:\n",
    "    regex = krs_regex.search(text)\n",
    "    if regex is None:\n",
    "        return None\n",
    "    else:\n",
    "        return regex.group(2)"
   ]
  },
  {
   "cell_type": "code",
   "execution_count": 87,
   "metadata": {},
   "outputs": [],
   "source": [
    "krs = df_practial_info.apply(get_krs)"
   ]
  },
  {
   "cell_type": "code",
   "execution_count": 88,
   "metadata": {},
   "outputs": [
    {
     "data": {
      "text/plain": [
       "9      000003112\n",
       "134    000003112\n",
       "300    000003112\n",
       "Name: informacje praktyczne, dtype: object"
      ]
     },
     "execution_count": 88,
     "metadata": {},
     "output_type": "execute_result"
    }
   ],
   "source": [
    "krs[~krs.isna()]"
   ]
  },
  {
   "cell_type": "markdown",
   "metadata": {},
   "source": [
    "# NIP"
   ]
  },
  {
   "cell_type": "code",
   "execution_count": 131,
   "metadata": {},
   "outputs": [],
   "source": [
    "nip_regex = re.compile('(nip:?\\s*)([0-9\\-]*)(\\s|\\.|,)', re.IGNORECASE)"
   ]
  },
  {
   "cell_type": "code",
   "execution_count": 135,
   "metadata": {},
   "outputs": [],
   "source": [
    "def get_nip(text: str) -> str:\n",
    "    regex = nip_regex.search(text)\n",
    "    if regex is None:\n",
    "        return None\n",
    "    else:\n",
    "        return regex.group(2)"
   ]
  },
  {
   "cell_type": "code",
   "execution_count": 136,
   "metadata": {},
   "outputs": [],
   "source": [
    "nip = df_practial_info.apply(get_nip)"
   ]
  },
  {
   "cell_type": "code",
   "execution_count": 137,
   "metadata": {},
   "outputs": [
    {
     "data": {
      "text/plain": [
       "9      526-02-10-808\n",
       "134    526-02-10-808\n",
       "300    526-02-10-808\n",
       "Name: informacje praktyczne, dtype: object"
      ]
     },
     "execution_count": 137,
     "metadata": {},
     "output_type": "execute_result"
    }
   ],
   "source": [
    "nip[~nip.isna()]"
   ]
  },
  {
   "cell_type": "markdown",
   "metadata": {},
   "source": [
    "# SZIEDZIBA_TOWARZYSTWA"
   ]
  },
  {
   "cell_type": "code",
   "execution_count": 228,
   "metadata": {},
   "outputs": [],
   "source": [
    "address_regex = re.compile('(ul\\.\\s\\w+\\s\\d{1,3},?\\s\\d{2}-\\d{3}\\s\\w+)')"
   ]
  },
  {
   "cell_type": "code",
   "execution_count": 232,
   "metadata": {},
   "outputs": [],
   "source": [
    "def get_address(text: str) -> str:\n",
    "    regex = address_regex.search(text)\n",
    "    if regex is None:\n",
    "        return None\n",
    "    else:\n",
    "        return regex.group(1)"
   ]
  },
  {
   "cell_type": "code",
   "execution_count": 233,
   "metadata": {},
   "outputs": [],
   "source": [
    "addressess = df_practial_info.apply(get_address)"
   ]
  },
  {
   "cell_type": "code",
   "execution_count": 234,
   "metadata": {},
   "outputs": [
    {
     "data": {
      "text/plain": [
       "9       ul. Grzybowskiej 78, 00-844 w\n",
       "28     ul. Prosta 18, 00-950 Warszawa\n",
       "68     ul. Prosta 18, 00-950 Warszawa\n",
       "83     ul. Prosta 18, 00-950 Warszawa\n",
       "121    ul. Prosta 18, 00-950 Warszawa\n",
       "124    ul. Prosta 18, 00-950 Warszawa\n",
       "131    ul. Prosta 18, 00-950 Warszawa\n",
       "133    ul. Prosta 18, 00-950 Warszawa\n",
       "134     ul. Grzybowskiej 78, 00-844 w\n",
       "137    ul. Prosta 18, 00-950 Warszawa\n",
       "141    ul. Prosta 18, 00-950 Warszawa\n",
       "150    ul. Prosta 18, 00-950 Warszawa\n",
       "231    ul. Prosta 18, 00-950 Warszawa\n",
       "300     ul. Grzybowskiej 78, 00-844 w\n",
       "327    ul. Prosta 18, 00-950 Warszawa\n",
       "358    ul. Prosta 18, 00-950 Warszawa\n",
       "374    ul. Prosta 18, 00-950 Warszawa\n",
       "384    ul. Prosta 18, 00-950 Warszawa\n",
       "399    ul. Prosta 18, 00-950 Warszawa\n",
       "Name: informacje praktyczne, dtype: object"
      ]
     },
     "execution_count": 234,
     "metadata": {},
     "output_type": "execute_result"
    }
   ],
   "source": [
    "addressess[~addressess.isna()]"
   ]
  },
  {
   "cell_type": "markdown",
   "metadata": {},
   "source": [
    "# KAPITAL_ZAKLADOWY_TOWARZYSTWA"
   ]
  },
  {
   "cell_type": "code",
   "execution_count": 264,
   "metadata": {},
   "outputs": [],
   "source": [
    "capital_regex = re.compile('zakładowy:?.{,20}([\\d\\s,]+)', re.IGNORECASE)"
   ]
  },
  {
   "cell_type": "code",
   "execution_count": 265,
   "metadata": {},
   "outputs": [],
   "source": [
    "def get_capital(text: str) -> str:\n",
    "    regex = capital_regex.search(text)\n",
    "    \n",
    "    if regex is None:\n",
    "        return None\n",
    "    else:\n",
    "        return regex.group(1)"
   ]
  },
  {
   "cell_type": "code",
   "execution_count": 266,
   "metadata": {},
   "outputs": [],
   "source": [
    "capital = df_practial_info.apply(get_capital)"
   ]
  },
  {
   "cell_type": "code",
   "execution_count": 267,
   "metadata": {},
   "outputs": [
    {
     "data": {
      "text/plain": [
       "9       612,00 \n",
       "134     612,00 \n",
       "300     612,00 \n",
       "Name: informacje praktyczne, dtype: object"
      ]
     },
     "execution_count": 267,
     "metadata": {},
     "output_type": "execute_result"
    }
   ],
   "source": [
    "capital[~capital.isna()]"
   ]
  },
  {
   "cell_type": "markdown",
   "metadata": {},
   "source": [
    "# WALUTA_KAPITALU_ZAKLADOWEGO_TO"
   ]
  },
  {
   "cell_type": "code",
   "execution_count": 298,
   "metadata": {},
   "outputs": [],
   "source": [
    "currency_regex = re.compile('(przedstawiono\\sw\\s)(\\w{3})', re.IGNORECASE)"
   ]
  },
  {
   "cell_type": "code",
   "execution_count": 299,
   "metadata": {},
   "outputs": [],
   "source": [
    "def get_currency(text: str) -> str:\n",
    "    regex = currency_regex.search(text)\n",
    "    if regex is None:\n",
    "        return None\n",
    "    else:\n",
    "        return regex.group(2)   "
   ]
  },
  {
   "cell_type": "code",
   "execution_count": 300,
   "metadata": {},
   "outputs": [],
   "source": [
    "currency = df_practial_info.apply(get_currency)"
   ]
  },
  {
   "cell_type": "code",
   "execution_count": 304,
   "metadata": {},
   "outputs": [],
   "source": [
    "# currency[~currency.isna()]"
   ]
  },
  {
   "cell_type": "markdown",
   "metadata": {},
   "source": [
    "# CZY_ESG"
   ]
  },
  {
   "cell_type": "code",
   "execution_count": 333,
   "metadata": {},
   "outputs": [],
   "source": [
    "esg_regex = re.compile('esg' , re.IGNORECASE)\n",
    "not_esg_regex = re.compile('.{0,10}nie.{0,10}esg.{0,10}nie.{0,10}')"
   ]
  },
  {
   "cell_type": "code",
   "execution_count": 329,
   "metadata": {},
   "outputs": [],
   "source": [
    "def get_esg(text: str) -> str:\n",
    "    regex = esg_regex.search(text)\n",
    "    \n",
    "    if regex is None:\n",
    "        return False\n",
    "    else:\n",
    "        not_regex = not_esg_regex.search(text)\n",
    "        if not_regex is None:\n",
    "            return False\n",
    "        return True"
   ]
  },
  {
   "cell_type": "code",
   "execution_count": 330,
   "metadata": {},
   "outputs": [],
   "source": [
    "esg = df_practial_info.apply(get_esg)"
   ]
  },
  {
   "cell_type": "code",
   "execution_count": 331,
   "metadata": {},
   "outputs": [
    {
     "data": {
      "text/plain": [
       "11     Informacje praktyczne Amundi Stars Global Ecol...\n",
       "60     Informacje praktyczne Amundi Stars Global Ecol...\n",
       "228    westor ma prawo dokonywać zamiany jednostek uc...\n",
       "241    y. Inwestor ma prawo dokonywać zamiany jednost...\n",
       "265    Informacje praktyczne Amundi Stars Global Ecol...\n",
       "Name: informacje praktyczne, dtype: object"
      ]
     },
     "execution_count": 331,
     "metadata": {},
     "output_type": "execute_result"
    }
   ],
   "source": [
    "esg[~esg.isna()]"
   ]
  },
  {
   "cell_type": "code",
   "execution_count": 332,
   "metadata": {},
   "outputs": [
    {
     "data": {
      "text/plain": [
       "'Informacje praktyczne Amundi Stars Global Ecology ESG Informacje praktyczne Niniejsze Kluczowe informacje dla inwestorów opisują Amundi Stars Global Ecol'"
      ]
     },
     "execution_count": 332,
     "metadata": {},
     "output_type": "execute_result"
    }
   ],
   "source": [
    "esg.iloc[10]"
   ]
  },
  {
   "cell_type": "markdown",
   "metadata": {},
   "source": [
    "# TYP_FUNDUSZU\n",
    "wyjątkowo `intro`"
   ]
  },
  {
   "cell_type": "code",
   "execution_count": 343,
   "metadata": {},
   "outputs": [],
   "source": [
    "raw_text = df['raw_text']\n",
    "raw_text = intro[~raw_text.isna()]"
   ]
  },
  {
   "cell_type": "code",
   "execution_count": 344,
   "metadata": {},
   "outputs": [],
   "source": [
    "raw_text = raw_text.apply(split_text)"
   ]
  },
  {
   "cell_type": "code",
   "execution_count": 345,
   "metadata": {},
   "outputs": [],
   "source": [
    "type_regex = re.compile('(S?FIO)')"
   ]
  },
  {
   "cell_type": "code",
   "execution_count": 346,
   "metadata": {},
   "outputs": [],
   "source": [
    "def get_type(text: str) -> str:\n",
    "    regex = type_regex.search(text)\n",
    "    \n",
    "    if regex is None:\n",
    "        return None\n",
    "    else:\n",
    "        return regex.group(1)"
   ]
  },
  {
   "cell_type": "code",
   "execution_count": 347,
   "metadata": {},
   "outputs": [],
   "source": [
    "types = raw_text.apply(get_type)"
   ]
  },
  {
   "cell_type": "code",
   "execution_count": 351,
   "metadata": {},
   "outputs": [
    {
     "data": {
      "text/plain": [
       "10     SFIO\n",
       "22     SFIO\n",
       "33     SFIO\n",
       "34     SFIO\n",
       "39     SFIO\n",
       "       ... \n",
       "380    SFIO\n",
       "382    SFIO\n",
       "388    SFIO\n",
       "394    SFIO\n",
       "397    SFIO\n",
       "Name: intro, Length: 64, dtype: object"
      ]
     },
     "execution_count": 351,
     "metadata": {},
     "output_type": "execute_result"
    }
   ],
   "source": [
    "types[~types.isna()]"
   ]
  }
 ],
 "metadata": {
  "kernelspec": {
   "display_name": "Python 3.8.13 ('hack_venv')",
   "language": "python",
   "name": "python3"
  },
  "language_info": {
   "codemirror_mode": {
    "name": "ipython",
    "version": 3
   },
   "file_extension": ".py",
   "mimetype": "text/x-python",
   "name": "python",
   "nbconvert_exporter": "python",
   "pygments_lexer": "ipython3",
   "version": "3.8.13"
  },
  "orig_nbformat": 4,
  "vscode": {
   "interpreter": {
    "hash": "e98807ee2f3da63852960dc6020a5ec887e95e81874581de0b8e6ab43381f528"
   }
  }
 },
 "nbformat": 4,
 "nbformat_minor": 2
}
