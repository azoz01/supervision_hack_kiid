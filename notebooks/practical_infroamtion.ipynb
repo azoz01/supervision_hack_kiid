{
 "cells": [
  {
   "cell_type": "code",
   "execution_count": 3,
   "metadata": {},
   "outputs": [],
   "source": [
    "import pandas as pd\n",
    "import re\n",
    "\n",
    "import spacy"
   ]
  },
  {
   "cell_type": "code",
   "execution_count": 4,
   "metadata": {},
   "outputs": [],
   "source": [
    "nlp = spacy.load('pl_core_news_lg')"
   ]
  },
  {
   "cell_type": "code",
   "execution_count": 5,
   "metadata": {},
   "outputs": [],
   "source": [
    "def split_text(text: str) -> list:\n",
    "    text = text.replace('\\n\\n', '<p>')\n",
    "    text = ' '.join(text.split())\n",
    "    text = text.replace('<p>', '\\n')\n",
    "    # text = text.lower()\n",
    "    return text"
   ]
  },
  {
   "cell_type": "code",
   "execution_count": 6,
   "metadata": {},
   "outputs": [],
   "source": [
    "df_path = '../data/parsed/kiids_parsed.parquet'"
   ]
  },
  {
   "cell_type": "code",
   "execution_count": 7,
   "metadata": {},
   "outputs": [],
   "source": [
    "df = pd.read_parquet(df_path)"
   ]
  },
  {
   "cell_type": "code",
   "execution_count": 4,
   "metadata": {},
   "outputs": [],
   "source": [
    "df_practial_info = df['informacje praktyczne']\n",
    "df_practial_info = df_practial_info[~df_practial_info.isna()]"
   ]
  },
  {
   "cell_type": "code",
   "execution_count": 5,
   "metadata": {},
   "outputs": [
    {
     "data": {
      "text/plain": [
       "0      INFORMACJE PRAKTYCZNE\\nNiniejszy dokument opis...\n",
       "1      Informacje praktyczne \\nDepozytariusz: Bank Pe...\n",
       "2                               INFORMACJE PRAKTYCZNE \\n\n",
       "3      Informacje praktyczne \\nSubfundusz został utwo...\n",
       "5      Informacje praktyczne \\nDepozytariusz: Bank Pe...\n",
       "                             ...                        \n",
       "396    Informacje praktyczne \\nSubfundusz został utwo...\n",
       "397    Informacje praktyczne \\nDepozytariusz: Bank Pe...\n",
       "398                             INFORMACJE PRAKTYCZNE \\n\n",
       "399    Informacje praktyczne \\nKluczowe informacje dl...\n",
       "400    Informacje praktyczne\\nKluczowe informacje dla...\n",
       "Name: informacje praktyczne, Length: 391, dtype: object"
      ]
     },
     "execution_count": 5,
     "metadata": {},
     "output_type": "execute_result"
    }
   ],
   "source": [
    "df_practial_info"
   ]
  },
  {
   "cell_type": "code",
   "execution_count": 7,
   "metadata": {},
   "outputs": [],
   "source": [
    "df_practial_info = df_practial_info.apply(split_text)"
   ]
  },
  {
   "cell_type": "code",
   "execution_count": 8,
   "metadata": {},
   "outputs": [
    {
     "data": {
      "text/plain": [
       "0      INFORMACJE PRAKTYCZNE Niniejszy dokument opisu...\n",
       "1      Informacje praktyczne Depozytariusz: Bank Peka...\n",
       "2                                  INFORMACJE PRAKTYCZNE\n",
       "3      Informacje praktyczne Subfundusz został utworz...\n",
       "5      Informacje praktyczne Depozytariusz: Bank Peka...\n",
       "                             ...                        \n",
       "396    Informacje praktyczne Subfundusz został utworz...\n",
       "397    Informacje praktyczne Depozytariusz: Bank Peka...\n",
       "398                                INFORMACJE PRAKTYCZNE\n",
       "399    Informacje praktyczne Kluczowe informacje dla ...\n",
       "400    Informacje praktyczne Kluczowe informacje dla ...\n",
       "Name: informacje praktyczne, Length: 391, dtype: object"
      ]
     },
     "execution_count": 8,
     "metadata": {},
     "output_type": "execute_result"
    }
   ],
   "source": [
    "df_practial_info"
   ]
  },
  {
   "cell_type": "markdown",
   "metadata": {},
   "source": [
    "# Depositary"
   ]
  },
  {
   "cell_type": "code",
   "execution_count": 47,
   "metadata": {},
   "outputs": [],
   "source": [
    "depo_regex = re.compile('depozytariusz(em.*jest)?:?\\s*(.*?)(S\\.A)?(\\.|,|;)', re.IGNORECASE)\n",
    "not_depo_regex = re.compile('(niezgodne.*)|(to\\s)')"
   ]
  },
  {
   "cell_type": "code",
   "execution_count": 48,
   "metadata": {},
   "outputs": [],
   "source": [
    "def get_depo(text: str) -> str or None:\n",
    "    regex = depo_regex.search(text)\n",
    "    if regex is None:\n",
    "        return None\n",
    "    else:     \n",
    "        if not_depo_regex.search(regex.group(2)):\n",
    "            return None\n",
    "        \n",
    "        if regex.group(3) is not None:\n",
    "            return regex.group(2) + regex.group(3)\n",
    "        else:\n",
    "            return regex.group(2)"
   ]
  },
  {
   "cell_type": "code",
   "execution_count": 49,
   "metadata": {},
   "outputs": [],
   "source": [
    "df_depo_re = df_practial_info.apply(get_depo)"
   ]
  },
  {
   "cell_type": "code",
   "execution_count": 50,
   "metadata": {},
   "outputs": [
    {
     "data": {
      "text/plain": [
       "array(['Bank Handlowy w Warszawie SA', 'Bank Pekao S.A',\n",
       "       'Depozytariuszem funduszu jest mBank S.A',\n",
       "       'Deutsche Bank Polska Akcyjna z siedzibą w Warszawie',\n",
       "       'ING Bank Śląski S.A', 'PKO Bank Polski S.A',\n",
       "       'Deutsche Bank Polska Spółka Akcyjna z siedzibą w Warszawie',\n",
       "       'mBank S.A', 'BNP Paribas Bank Polska S.A',\n",
       "       'określona w tych umowach lub zasadach',\n",
       "       'Bank Handlowy w Warszawie S.A',\n",
       "       'Bank Polska Kasa Opieki Spółka Akcyjna z siedzibą w Warszawie'],\n",
       "      dtype=object)"
      ]
     },
     "execution_count": 50,
     "metadata": {},
     "output_type": "execute_result"
    }
   ],
   "source": [
    "df_depo_re[~df_depo_re.isna()].unique()"
   ]
  },
  {
   "cell_type": "markdown",
   "metadata": {},
   "source": [
    "\n",
    "# KRS"
   ]
  },
  {
   "cell_type": "code",
   "execution_count": 76,
   "metadata": {},
   "outputs": [],
   "source": [
    "krs_regex = re.compile('(krs:?\\s*)([0-9]{9})', re.IGNORECASE)"
   ]
  },
  {
   "cell_type": "code",
   "execution_count": 86,
   "metadata": {},
   "outputs": [],
   "source": [
    "def get_krs(text: str) -> str or None:\n",
    "    regex = krs_regex.search(text)\n",
    "    if regex is None:\n",
    "        return None\n",
    "    else:\n",
    "        return regex.group(2)"
   ]
  },
  {
   "cell_type": "code",
   "execution_count": 87,
   "metadata": {},
   "outputs": [],
   "source": [
    "krs = df_practial_info.apply(get_krs)"
   ]
  },
  {
   "cell_type": "code",
   "execution_count": 88,
   "metadata": {},
   "outputs": [
    {
     "data": {
      "text/plain": [
       "9      000003112\n",
       "134    000003112\n",
       "300    000003112\n",
       "Name: informacje praktyczne, dtype: object"
      ]
     },
     "execution_count": 88,
     "metadata": {},
     "output_type": "execute_result"
    }
   ],
   "source": [
    "krs[~krs.isna()]"
   ]
  },
  {
   "cell_type": "markdown",
   "metadata": {},
   "source": [
    "# NIP"
   ]
  },
  {
   "cell_type": "code",
   "execution_count": 131,
   "metadata": {},
   "outputs": [],
   "source": [
    "nip_regex = re.compile('(nip:?\\s*)([0-9\\-]*)(\\s|\\.|,)', re.IGNORECASE)"
   ]
  },
  {
   "cell_type": "code",
   "execution_count": 135,
   "metadata": {},
   "outputs": [],
   "source": [
    "def get_nip(text: str) -> str:\n",
    "    regex = nip_regex.search(text)\n",
    "    if regex is None:\n",
    "        return None\n",
    "    else:\n",
    "        return regex.group(2)"
   ]
  },
  {
   "cell_type": "code",
   "execution_count": 136,
   "metadata": {},
   "outputs": [],
   "source": [
    "nip = df_practial_info.apply(get_nip)"
   ]
  },
  {
   "cell_type": "code",
   "execution_count": 137,
   "metadata": {},
   "outputs": [
    {
     "data": {
      "text/plain": [
       "9      526-02-10-808\n",
       "134    526-02-10-808\n",
       "300    526-02-10-808\n",
       "Name: informacje praktyczne, dtype: object"
      ]
     },
     "execution_count": 137,
     "metadata": {},
     "output_type": "execute_result"
    }
   ],
   "source": [
    "nip[~nip.isna()]"
   ]
  },
  {
   "cell_type": "markdown",
   "metadata": {},
   "source": [
    "# SZIEDZIBA_TOWARZYSTWA"
   ]
  },
  {
   "cell_type": "code",
   "execution_count": 228,
   "metadata": {},
   "outputs": [],
   "source": [
    "address_regex = re.compile('(ul\\.\\s\\w+\\s\\d{1,3},?\\s\\d{2}-\\d{3}\\s\\w+)')"
   ]
  },
  {
   "cell_type": "code",
   "execution_count": 232,
   "metadata": {},
   "outputs": [],
   "source": [
    "def get_address(text: str) -> str:\n",
    "    regex = address_regex.search(text)\n",
    "    if regex is None:\n",
    "        return None\n",
    "    else:\n",
    "        return regex.group(1)"
   ]
  },
  {
   "cell_type": "code",
   "execution_count": 233,
   "metadata": {},
   "outputs": [],
   "source": [
    "addressess = df_practial_info.apply(get_address)"
   ]
  },
  {
   "cell_type": "code",
   "execution_count": 234,
   "metadata": {},
   "outputs": [
    {
     "data": {
      "text/plain": [
       "9       ul. Grzybowskiej 78, 00-844 w\n",
       "28     ul. Prosta 18, 00-950 Warszawa\n",
       "68     ul. Prosta 18, 00-950 Warszawa\n",
       "83     ul. Prosta 18, 00-950 Warszawa\n",
       "121    ul. Prosta 18, 00-950 Warszawa\n",
       "124    ul. Prosta 18, 00-950 Warszawa\n",
       "131    ul. Prosta 18, 00-950 Warszawa\n",
       "133    ul. Prosta 18, 00-950 Warszawa\n",
       "134     ul. Grzybowskiej 78, 00-844 w\n",
       "137    ul. Prosta 18, 00-950 Warszawa\n",
       "141    ul. Prosta 18, 00-950 Warszawa\n",
       "150    ul. Prosta 18, 00-950 Warszawa\n",
       "231    ul. Prosta 18, 00-950 Warszawa\n",
       "300     ul. Grzybowskiej 78, 00-844 w\n",
       "327    ul. Prosta 18, 00-950 Warszawa\n",
       "358    ul. Prosta 18, 00-950 Warszawa\n",
       "374    ul. Prosta 18, 00-950 Warszawa\n",
       "384    ul. Prosta 18, 00-950 Warszawa\n",
       "399    ul. Prosta 18, 00-950 Warszawa\n",
       "Name: informacje praktyczne, dtype: object"
      ]
     },
     "execution_count": 234,
     "metadata": {},
     "output_type": "execute_result"
    }
   ],
   "source": [
    "addressess[~addressess.isna()]"
   ]
  },
  {
   "cell_type": "markdown",
   "metadata": {},
   "source": [
    "# KAPITAL_ZAKLADOWY_TOWARZYSTWA"
   ]
  },
  {
   "cell_type": "code",
   "execution_count": 264,
   "metadata": {},
   "outputs": [],
   "source": [
    "capital_regex = re.compile('zakładowy:?.{,20}([\\d\\s,]+)', re.IGNORECASE)"
   ]
  },
  {
   "cell_type": "code",
   "execution_count": 265,
   "metadata": {},
   "outputs": [],
   "source": [
    "def get_capital(text: str) -> str:\n",
    "    regex = capital_regex.search(text)\n",
    "    \n",
    "    if regex is None:\n",
    "        return None\n",
    "    else:\n",
    "        return regex.group(1)"
   ]
  },
  {
   "cell_type": "code",
   "execution_count": 266,
   "metadata": {},
   "outputs": [],
   "source": [
    "capital = df_practial_info.apply(get_capital)"
   ]
  },
  {
   "cell_type": "code",
   "execution_count": 267,
   "metadata": {},
   "outputs": [
    {
     "data": {
      "text/plain": [
       "9       612,00 \n",
       "134     612,00 \n",
       "300     612,00 \n",
       "Name: informacje praktyczne, dtype: object"
      ]
     },
     "execution_count": 267,
     "metadata": {},
     "output_type": "execute_result"
    }
   ],
   "source": [
    "capital[~capital.isna()]"
   ]
  },
  {
   "cell_type": "markdown",
   "metadata": {},
   "source": [
    "# WALUTA_KAPITALU_ZAKLADOWEGO_TO"
   ]
  },
  {
   "cell_type": "code",
   "execution_count": 298,
   "metadata": {},
   "outputs": [],
   "source": [
    "currency_regex = re.compile('(przedstawiono\\sw\\s)(\\w{3})', re.IGNORECASE)"
   ]
  },
  {
   "cell_type": "code",
   "execution_count": 299,
   "metadata": {},
   "outputs": [],
   "source": [
    "def get_currency(text: str) -> str:\n",
    "    regex = currency_regex.search(text)\n",
    "    if regex is None:\n",
    "        return None\n",
    "    else:\n",
    "        return regex.group(2)   "
   ]
  },
  {
   "cell_type": "code",
   "execution_count": 300,
   "metadata": {},
   "outputs": [],
   "source": [
    "currency = df_practial_info.apply(get_currency)"
   ]
  },
  {
   "cell_type": "code",
   "execution_count": 304,
   "metadata": {},
   "outputs": [],
   "source": [
    "# currency[~currency.isna()]"
   ]
  },
  {
   "cell_type": "markdown",
   "metadata": {},
   "source": [
    "# CZY_ESG"
   ]
  },
  {
   "cell_type": "code",
   "execution_count": 333,
   "metadata": {},
   "outputs": [],
   "source": [
    "esg_regex = re.compile('esg' , re.IGNORECASE)\n",
    "not_esg_regex = re.compile('.{0,10}nie.{0,10}esg.{0,10}nie.{0,10}')"
   ]
  },
  {
   "cell_type": "code",
   "execution_count": 329,
   "metadata": {},
   "outputs": [],
   "source": [
    "def get_esg(text: str) -> str:\n",
    "    regex = esg_regex.search(text)\n",
    "    \n",
    "    if regex is None:\n",
    "        return False\n",
    "    else:\n",
    "        not_regex = not_esg_regex.search(text)\n",
    "        if not_regex is None:\n",
    "            return False\n",
    "        return True"
   ]
  },
  {
   "cell_type": "code",
   "execution_count": 330,
   "metadata": {},
   "outputs": [],
   "source": [
    "esg = df_practial_info.apply(get_esg)"
   ]
  },
  {
   "cell_type": "code",
   "execution_count": 331,
   "metadata": {},
   "outputs": [
    {
     "data": {
      "text/plain": [
       "11     Informacje praktyczne Amundi Stars Global Ecol...\n",
       "60     Informacje praktyczne Amundi Stars Global Ecol...\n",
       "228    westor ma prawo dokonywać zamiany jednostek uc...\n",
       "241    y. Inwestor ma prawo dokonywać zamiany jednost...\n",
       "265    Informacje praktyczne Amundi Stars Global Ecol...\n",
       "Name: informacje praktyczne, dtype: object"
      ]
     },
     "execution_count": 331,
     "metadata": {},
     "output_type": "execute_result"
    }
   ],
   "source": [
    "esg[~esg.isna()]"
   ]
  },
  {
   "cell_type": "code",
   "execution_count": 332,
   "metadata": {},
   "outputs": [
    {
     "data": {
      "text/plain": [
       "'Informacje praktyczne Amundi Stars Global Ecology ESG Informacje praktyczne Niniejsze Kluczowe informacje dla inwestorów opisują Amundi Stars Global Ecol'"
      ]
     },
     "execution_count": 332,
     "metadata": {},
     "output_type": "execute_result"
    }
   ],
   "source": [
    "esg.iloc[10]"
   ]
  },
  {
   "cell_type": "markdown",
   "metadata": {},
   "source": [
    "# TYP_FUNDUSZU\n",
    "wyjątkowo `intro`"
   ]
  },
  {
   "cell_type": "code",
   "execution_count": 343,
   "metadata": {},
   "outputs": [],
   "source": [
    "raw_text = df['raw_text']\n",
    "raw_text = intro[~raw_text.isna()]"
   ]
  },
  {
   "cell_type": "code",
   "execution_count": 344,
   "metadata": {},
   "outputs": [],
   "source": [
    "raw_text = raw_text.apply(split_text)"
   ]
  },
  {
   "cell_type": "code",
   "execution_count": 345,
   "metadata": {},
   "outputs": [],
   "source": [
    "type_regex = re.compile('(S?FIO)')"
   ]
  },
  {
   "cell_type": "code",
   "execution_count": 346,
   "metadata": {},
   "outputs": [],
   "source": [
    "def get_type(text: str) -> str:\n",
    "    regex = type_regex.search(text)\n",
    "    \n",
    "    if regex is None:\n",
    "        return None\n",
    "    else:\n",
    "        return regex.group(1)"
   ]
  },
  {
   "cell_type": "code",
   "execution_count": 347,
   "metadata": {},
   "outputs": [],
   "source": [
    "types = raw_text.apply(get_type)"
   ]
  },
  {
   "cell_type": "code",
   "execution_count": 351,
   "metadata": {},
   "outputs": [
    {
     "data": {
      "text/plain": [
       "10     SFIO\n",
       "22     SFIO\n",
       "33     SFIO\n",
       "34     SFIO\n",
       "39     SFIO\n",
       "       ... \n",
       "380    SFIO\n",
       "382    SFIO\n",
       "388    SFIO\n",
       "394    SFIO\n",
       "397    SFIO\n",
       "Name: intro, Length: 64, dtype: object"
      ]
     },
     "execution_count": 351,
     "metadata": {},
     "output_type": "execute_result"
    }
   ],
   "source": [
    "types[~types.isna()]"
   ]
  },
  {
   "cell_type": "markdown",
   "metadata": {},
   "source": [
    "# ISIN"
   ]
  },
  {
   "cell_type": "code",
   "execution_count": 354,
   "metadata": {},
   "outputs": [],
   "source": [
    "isin_regex = re.compile('(\\w{2}[\\w\\d]{9}\\d)', re.IGNORECASE)"
   ]
  },
  {
   "cell_type": "code",
   "execution_count": 355,
   "metadata": {},
   "outputs": [],
   "source": [
    "def get_isin(text: str) -> str:\n",
    "    regex = isin_regex.search(text)\n",
    "    \n",
    "    if regex is None:\n",
    "        return None\n",
    "    else:\n",
    "        return regex.group(1)    "
   ]
  },
  {
   "cell_type": "code",
   "execution_count": 356,
   "metadata": {},
   "outputs": [],
   "source": [
    "isin = raw_text.apply(get_isin)"
   ]
  },
  {
   "cell_type": "code",
   "execution_count": 357,
   "metadata": {},
   "outputs": [
    {
     "data": {
      "text/plain": [
       "1      PLPPTFI00147\n",
       "5      PLPPTFI00733\n",
       "7      PLPPTFI00725\n",
       "8      PLPPTFI00568\n",
       "15     PLPPTFI00212\n",
       "           ...     \n",
       "361    PLPPTFI00014\n",
       "365    PLPPTFI00691\n",
       "366    PLPPTFI00600\n",
       "375    PLUITFI00548\n",
       "393    PLUITFI00506\n",
       "Name: intro, Length: 76, dtype: object"
      ]
     },
     "execution_count": 357,
     "metadata": {},
     "output_type": "execute_result"
    }
   ],
   "source": [
    "isin[~isin.isna()]"
   ]
  },
  {
   "cell_type": "markdown",
   "metadata": {},
   "source": [
    "# WYNIKI_OSIAGNIETE_W_PRZESZLOSCI"
   ]
  },
  {
   "cell_type": "code",
   "execution_count": 362,
   "metadata": {},
   "outputs": [
    {
     "data": {
      "text/plain": [
       "0      WYNIKI OSIĄGNIĘTE W PRZESZŁOŚCI Przedstawione ...\n",
       "1      Wyniki osiągnięte w przeszłości Poniższy wykre...\n",
       "2      WYNIKI OSIĄGNIĘTE W PRZESZŁOŚCI Subfundusz uru...\n",
       "3      Wyniki osiągnięte w przeszłości Opłaty Depozyt...\n",
       "4      Wyniki osiągnięte w przeszłości Jednorazowe op...\n",
       "                             ...                        \n",
       "396    Wyniki osiągnięte w przeszłości Opłaty Opłaty ...\n",
       "397    Wyniki osiągnięte w przeszłości Wyniki history...\n",
       "398    WYNIKI OSIĄGNIĘTE W PRZESZŁOŚCI Subfundusz uru...\n",
       "399    Wyniki osiągnięte w przeszłości Jednostka typu...\n",
       "400    Opłaty • Opłaty ponoszone przez Inwestora służ...\n",
       "Name: wyniki osiągnięte w przeszłości, Length: 401, dtype: object"
      ]
     },
     "execution_count": 362,
     "metadata": {},
     "output_type": "execute_result"
    }
   ],
   "source": [
    "previous_scoring = df['wyniki osiągnięte w przeszłości']\n",
    "previous_scoring.apply(split_text)"
   ]
  },
  {
   "cell_type": "markdown",
   "metadata": {},
   "source": [
    "# DATA_PIERWSZEJ_WYCENY"
   ]
  },
  {
   "cell_type": "code",
   "execution_count": 363,
   "metadata": {},
   "outputs": [],
   "source": [
    "previous_scoring_format = previous_scoring.apply(split_text)"
   ]
  },
  {
   "cell_type": "code",
   "execution_count": 426,
   "metadata": {},
   "outputs": [],
   "source": [
    "first_date_regex = re.compile('((tworzon|ceni)).+(\\d{4})\\w?r?\\.?')"
   ]
  },
  {
   "cell_type": "code",
   "execution_count": 427,
   "metadata": {},
   "outputs": [],
   "source": [
    "def get_first_date(text: str) -> str:\n",
    "    regex = first_date_regex.search(text)\n",
    "    \n",
    "    if regex is None:\n",
    "        return None\n",
    "    else:\n",
    "        return regex.group(3)"
   ]
  },
  {
   "cell_type": "code",
   "execution_count": 428,
   "metadata": {},
   "outputs": [],
   "source": [
    "dates = previous_scoring_format.apply(get_first_date)"
   ]
  },
  {
   "cell_type": "code",
   "execution_count": 429,
   "metadata": {},
   "outputs": [
    {
     "data": {
      "text/plain": [
       "1      2004\n",
       "10     2020\n",
       "15     2005\n",
       "16     2022\n",
       "42     2022\n",
       "50     2019\n",
       "56     2022\n",
       "63     2022\n",
       "81     2022\n",
       "85     2022\n",
       "87     2002\n",
       "88     1996\n",
       "92     2020\n",
       "102    2010\n",
       "111    1992\n",
       "116    2022\n",
       "119    2016\n",
       "126    2003\n",
       "130    2022\n",
       "135    2022\n",
       "140    2021\n",
       "145    2021\n",
       "152    2021\n",
       "156    2011\n",
       "166    2000\n",
       "172    2021\n",
       "173    2014\n",
       "186    2021\n",
       "188    2014\n",
       "192    2021\n",
       "199    1995\n",
       "203    2020\n",
       "204    2022\n",
       "212    2020\n",
       "213    2021\n",
       "214    2020\n",
       "216    2020\n",
       "218    2020\n",
       "222    2019\n",
       "226    2020\n",
       "229    2020\n",
       "239    2021\n",
       "246    2022\n",
       "258    2017\n",
       "274    2021\n",
       "285    2016\n",
       "286    2022\n",
       "296    2022\n",
       "314    2021\n",
       "317    2021\n",
       "324    2022\n",
       "333    2022\n",
       "335    2020\n",
       "339    2022\n",
       "353    2022\n",
       "356    2020\n",
       "361    2001\n",
       "392    2022\n",
       "Name: wyniki osiągnięte w przeszłości, dtype: object"
      ]
     },
     "execution_count": 429,
     "metadata": {},
     "output_type": "execute_result"
    }
   ],
   "source": [
    "dates[~dates.isna()]"
   ]
  },
  {
   "cell_type": "markdown",
   "metadata": {},
   "source": [
    "# Offtop"
   ]
  },
  {
   "cell_type": "code",
   "execution_count": 1,
   "metadata": {},
   "outputs": [],
   "source": [
    "def retrive_register_id(row) -> int:\n",
    "    \n",
    "    intro_text = row['intro']\n",
    "\n",
    "    does_not_id_exist = (\n",
    "        knf_df[\"nr_w_rejestrze\"]\n",
    "        .apply(lambda register_id: re.search(str(register_id), intro_text))\n",
    "        .isna()\n",
    "    )\n",
    "    df_filtered = knf_df[~does_not_id_exist]\n",
    "\n",
    "    if len(df_filtered[\"nr_w_rejestrze\"].unique()) != 1:\n",
    "        return None\n",
    "\n",
    "    return df_filtered[\"nr_w_rejestrze\"].iloc[0]"
   ]
  },
  {
   "cell_type": "code",
   "execution_count": 15,
   "metadata": {},
   "outputs": [],
   "source": [
    "row = df.iloc[3]\n",
    "intro_text = row['intro']"
   ]
  },
  {
   "cell_type": "code",
   "execution_count": 16,
   "metadata": {},
   "outputs": [],
   "source": [
    "knf_df = pd.read_pickle('./../data/knf_funds.pkl')"
   ]
  },
  {
   "cell_type": "code",
   "execution_count": 25,
   "metadata": {},
   "outputs": [
    {
     "data": {
      "text/html": [
       "<div>\n",
       "<style scoped>\n",
       "    .dataframe tbody tr th:only-of-type {\n",
       "        vertical-align: middle;\n",
       "    }\n",
       "\n",
       "    .dataframe tbody tr th {\n",
       "        vertical-align: top;\n",
       "    }\n",
       "\n",
       "    .dataframe thead th {\n",
       "        text-align: right;\n",
       "    }\n",
       "</style>\n",
       "<table border=\"1\" class=\"dataframe\">\n",
       "  <thead>\n",
       "    <tr style=\"text-align: right;\">\n",
       "      <th></th>\n",
       "      <th>fundusz</th>\n",
       "      <th>subfundusz</th>\n",
       "      <th>indentyfikator_krajowy</th>\n",
       "      <th>nr_w_rejestrze</th>\n",
       "      <th>towarzystwo</th>\n",
       "      <th>identyfikator_krajowy_funduszu</th>\n",
       "    </tr>\n",
       "  </thead>\n",
       "  <tbody>\n",
       "    <tr>\n",
       "      <th>0</th>\n",
       "      <td>ABELIA CAPITAL Fundusz Inwestycyjny Zamknięty ...</td>\n",
       "      <td>None</td>\n",
       "      <td>PLFIZ000030</td>\n",
       "      <td>1212</td>\n",
       "      <td>AgioFunds Towarzystwo Funduszy Inwestycyjnych ...</td>\n",
       "      <td>PLTFI000036</td>\n",
       "    </tr>\n",
       "    <tr>\n",
       "      <th>1</th>\n",
       "      <td>AD ROYAL Fundusz Inwestycyjny Zamknięty Aktywó...</td>\n",
       "      <td>None</td>\n",
       "      <td>PLFIZ000572</td>\n",
       "      <td>420</td>\n",
       "      <td>AgioFunds Towarzystwo Funduszy Inwestycyjnych ...</td>\n",
       "      <td>PLTFI000036</td>\n",
       "    </tr>\n",
       "    <tr>\n",
       "      <th>2</th>\n",
       "      <td>AGIO Nieruchomości Komercyjnych Fundusz Inwest...</td>\n",
       "      <td>None</td>\n",
       "      <td>PLFIZ000037</td>\n",
       "      <td>986</td>\n",
       "      <td>AgioFunds Towarzystwo Funduszy Inwestycyjnych ...</td>\n",
       "      <td>PLTFI000036</td>\n",
       "    </tr>\n",
       "    <tr>\n",
       "      <th>3</th>\n",
       "      <td>AGIO PLUS Fundusz Inwestycyjny Otwarty</td>\n",
       "      <td>None</td>\n",
       "      <td>PLFIO000281</td>\n",
       "      <td>1309</td>\n",
       "      <td>AgioFunds Towarzystwo Funduszy Inwestycyjnych ...</td>\n",
       "      <td>PLTFI000036</td>\n",
       "    </tr>\n",
       "    <tr>\n",
       "      <th>4</th>\n",
       "      <td>AGIO PLUS Fundusz Inwestycyjny Otwarty</td>\n",
       "      <td>Subfundusz AGIO Akcji PLUS</td>\n",
       "      <td>PLFIO000264</td>\n",
       "      <td>1309</td>\n",
       "      <td>AgioFunds Towarzystwo Funduszy Inwestycyjnych ...</td>\n",
       "      <td>PLTFI000036</td>\n",
       "    </tr>\n",
       "    <tr>\n",
       "      <th>...</th>\n",
       "      <td>...</td>\n",
       "      <td>...</td>\n",
       "      <td>...</td>\n",
       "      <td>...</td>\n",
       "      <td>...</td>\n",
       "      <td>...</td>\n",
       "    </tr>\n",
       "    <tr>\n",
       "      <th>39</th>\n",
       "      <td>Universe 2 Niestandaryzowany Sekurytyzacyjny F...</td>\n",
       "      <td>None</td>\n",
       "      <td>PLFIZ000774</td>\n",
       "      <td>1079</td>\n",
       "      <td>White Berg Towarzystwo Funduszy Inwestycyjnych...</td>\n",
       "      <td>PLTFI000039</td>\n",
       "    </tr>\n",
       "    <tr>\n",
       "      <th>40</th>\n",
       "      <td>Universe 3 Niestandaryzowany Sekurytyzacyjny F...</td>\n",
       "      <td>None</td>\n",
       "      <td>PLFIZ000775</td>\n",
       "      <td>1078</td>\n",
       "      <td>White Berg Towarzystwo Funduszy Inwestycyjnych...</td>\n",
       "      <td>PLTFI000039</td>\n",
       "    </tr>\n",
       "    <tr>\n",
       "      <th>41</th>\n",
       "      <td>Universe Niestandaryzowany Sekurytyzacyjny Fun...</td>\n",
       "      <td>None</td>\n",
       "      <td>PLFIZ000777</td>\n",
       "      <td>1028</td>\n",
       "      <td>White Berg Towarzystwo Funduszy Inwestycyjnych...</td>\n",
       "      <td>PLTFI000039</td>\n",
       "    </tr>\n",
       "    <tr>\n",
       "      <th>42</th>\n",
       "      <td>Value Fund Poland Activist Fundusz Inwestycyjn...</td>\n",
       "      <td>None</td>\n",
       "      <td>PLFIZ000809</td>\n",
       "      <td>1421</td>\n",
       "      <td>White Berg Towarzystwo Funduszy Inwestycyjnych...</td>\n",
       "      <td>PLTFI000039</td>\n",
       "    </tr>\n",
       "    <tr>\n",
       "      <th>43</th>\n",
       "      <td>White Berg Pożyczek Nieruchomościowych Fundusz...</td>\n",
       "      <td>None</td>\n",
       "      <td>PLFIZ001010</td>\n",
       "      <td>1625</td>\n",
       "      <td>White Berg Towarzystwo Funduszy Inwestycyjnych...</td>\n",
       "      <td>PLTFI000039</td>\n",
       "    </tr>\n",
       "  </tbody>\n",
       "</table>\n",
       "<p>1390 rows × 6 columns</p>\n",
       "</div>"
      ],
      "text/plain": [
       "                                              fundusz  \\\n",
       "0   ABELIA CAPITAL Fundusz Inwestycyjny Zamknięty ...   \n",
       "1   AD ROYAL Fundusz Inwestycyjny Zamknięty Aktywó...   \n",
       "2   AGIO Nieruchomości Komercyjnych Fundusz Inwest...   \n",
       "3              AGIO PLUS Fundusz Inwestycyjny Otwarty   \n",
       "4              AGIO PLUS Fundusz Inwestycyjny Otwarty   \n",
       "..                                                ...   \n",
       "39  Universe 2 Niestandaryzowany Sekurytyzacyjny F...   \n",
       "40  Universe 3 Niestandaryzowany Sekurytyzacyjny F...   \n",
       "41  Universe Niestandaryzowany Sekurytyzacyjny Fun...   \n",
       "42  Value Fund Poland Activist Fundusz Inwestycyjn...   \n",
       "43  White Berg Pożyczek Nieruchomościowych Fundusz...   \n",
       "\n",
       "                    subfundusz indentyfikator_krajowy nr_w_rejestrze  \\\n",
       "0                         None            PLFIZ000030           1212   \n",
       "1                         None            PLFIZ000572            420   \n",
       "2                         None            PLFIZ000037            986   \n",
       "3                         None            PLFIO000281           1309   \n",
       "4   Subfundusz AGIO Akcji PLUS            PLFIO000264           1309   \n",
       "..                         ...                    ...            ...   \n",
       "39                        None            PLFIZ000774           1079   \n",
       "40                        None            PLFIZ000775           1078   \n",
       "41                        None            PLFIZ000777           1028   \n",
       "42                        None            PLFIZ000809           1421   \n",
       "43                        None            PLFIZ001010           1625   \n",
       "\n",
       "                                          towarzystwo  \\\n",
       "0   AgioFunds Towarzystwo Funduszy Inwestycyjnych ...   \n",
       "1   AgioFunds Towarzystwo Funduszy Inwestycyjnych ...   \n",
       "2   AgioFunds Towarzystwo Funduszy Inwestycyjnych ...   \n",
       "3   AgioFunds Towarzystwo Funduszy Inwestycyjnych ...   \n",
       "4   AgioFunds Towarzystwo Funduszy Inwestycyjnych ...   \n",
       "..                                                ...   \n",
       "39  White Berg Towarzystwo Funduszy Inwestycyjnych...   \n",
       "40  White Berg Towarzystwo Funduszy Inwestycyjnych...   \n",
       "41  White Berg Towarzystwo Funduszy Inwestycyjnych...   \n",
       "42  White Berg Towarzystwo Funduszy Inwestycyjnych...   \n",
       "43  White Berg Towarzystwo Funduszy Inwestycyjnych...   \n",
       "\n",
       "   identyfikator_krajowy_funduszu  \n",
       "0                     PLTFI000036  \n",
       "1                     PLTFI000036  \n",
       "2                     PLTFI000036  \n",
       "3                     PLTFI000036  \n",
       "4                     PLTFI000036  \n",
       "..                            ...  \n",
       "39                    PLTFI000039  \n",
       "40                    PLTFI000039  \n",
       "41                    PLTFI000039  \n",
       "42                    PLTFI000039  \n",
       "43                    PLTFI000039  \n",
       "\n",
       "[1390 rows x 6 columns]"
      ]
     },
     "execution_count": 25,
     "metadata": {},
     "output_type": "execute_result"
    }
   ],
   "source": [
    "knf_df"
   ]
  },
  {
   "cell_type": "code",
   "execution_count": 24,
   "metadata": {},
   "outputs": [
    {
     "data": {
      "text/html": [
       "<div>\n",
       "<style scoped>\n",
       "    .dataframe tbody tr th:only-of-type {\n",
       "        vertical-align: middle;\n",
       "    }\n",
       "\n",
       "    .dataframe tbody tr th {\n",
       "        vertical-align: top;\n",
       "    }\n",
       "\n",
       "    .dataframe thead th {\n",
       "        text-align: right;\n",
       "    }\n",
       "</style>\n",
       "<table border=\"1\" class=\"dataframe\">\n",
       "  <thead>\n",
       "    <tr style=\"text-align: right;\">\n",
       "      <th></th>\n",
       "      <th>fundusz</th>\n",
       "      <th>subfundusz</th>\n",
       "      <th>indentyfikator_krajowy</th>\n",
       "      <th>nr_w_rejestrze</th>\n",
       "      <th>towarzystwo</th>\n",
       "      <th>identyfikator_krajowy_funduszu</th>\n",
       "    </tr>\n",
       "  </thead>\n",
       "  <tbody>\n",
       "  </tbody>\n",
       "</table>\n",
       "</div>"
      ],
      "text/plain": [
       "Empty DataFrame\n",
       "Columns: [fundusz, subfundusz, indentyfikator_krajowy, nr_w_rejestrze, towarzystwo, identyfikator_krajowy_funduszu]\n",
       "Index: []"
      ]
     },
     "execution_count": 24,
     "metadata": {},
     "output_type": "execute_result"
    }
   ],
   "source": [
    "knf_df[knf_df['identyfikator_krajowy_funduszu'] == 'PLPPTFI00147']"
   ]
  },
  {
   "cell_type": "code",
   "execution_count": 19,
   "metadata": {},
   "outputs": [
    {
     "data": {
      "text/plain": [
       "'PLPPTFI00147  \\n \\nKLUCZOWE INFORMACJE DLA INWESTORÓW \\n \\nNiniejszy dokument zawiera kluczowe informacje dla inwestorów dotyczące tego Subfunduszu. Nie są to materiały marketingowe. \\nDostarczenie \\ntych \\ninformacji \\njest \\nwymogiem \\nprawnym \\nmającym \\nna \\ncelu \\nułatwienie \\nzrozumienia \\ncharakteru  \\ni ryzyka związanego z inwestowaniem w ten Subfundusz. Przeczytanie niniejszego dokumentu jest zalecane inwestorowi, aby mógł \\non podjąć świadomą decyzję inwestycyjną. \\n \\n \\n'"
      ]
     },
     "execution_count": 19,
     "metadata": {},
     "output_type": "execute_result"
    }
   ],
   "source": [
    "intro_text"
   ]
  },
  {
   "cell_type": "code",
   "execution_count": 30,
   "metadata": {},
   "outputs": [],
   "source": [
    "def get_nr(row):\n",
    "    register_id = retrive_register_id(row)\n",
    "    intro_text = row['intro']\n",
    "\n",
    "    does_not_id_exist = (\n",
    "        knf_df[\"indentyfikator_krajowy\"]\n",
    "        .apply(lambda x: re.search(str(x), intro_text))\n",
    "        .isna()\n",
    "    )\n",
    "    df_filtered = knf_df[~does_not_id_exist]\n",
    "\n",
    "    if df_filtered.shape[0] != 1:\n",
    "        return 0\n",
    "    else:\n",
    "        return df_filtered[\"indentyfikator_krajowy\"].iloc[0]\n",
    "\n"
   ]
  },
  {
   "cell_type": "code",
   "execution_count": 33,
   "metadata": {},
   "outputs": [
    {
     "ename": "TypeError",
     "evalue": "get_nr() got an unexpected keyword argument 'index'",
     "output_type": "error",
     "traceback": [
      "\u001b[1;31m---------------------------------------------------------------------------\u001b[0m",
      "\u001b[1;31mTypeError\u001b[0m                                 Traceback (most recent call last)",
      "Cell \u001b[1;32mIn [33], line 1\u001b[0m\n\u001b[1;32m----> 1\u001b[0m a \u001b[39m=\u001b[39m df\u001b[39m.\u001b[39;49mapply(get_nr, index\u001b[39m=\u001b[39;49m\u001b[39m0\u001b[39;49m)\n",
      "File \u001b[1;32mc:\\Users\\Dawid\\Anaconda3\\envs\\hack_venv\\lib\\site-packages\\pandas\\core\\frame.py:9555\u001b[0m, in \u001b[0;36mDataFrame.apply\u001b[1;34m(self, func, axis, raw, result_type, args, **kwargs)\u001b[0m\n\u001b[0;32m   9544\u001b[0m \u001b[39mfrom\u001b[39;00m \u001b[39mpandas\u001b[39;00m\u001b[39m.\u001b[39;00m\u001b[39mcore\u001b[39;00m\u001b[39m.\u001b[39;00m\u001b[39mapply\u001b[39;00m \u001b[39mimport\u001b[39;00m frame_apply\n\u001b[0;32m   9546\u001b[0m op \u001b[39m=\u001b[39m frame_apply(\n\u001b[0;32m   9547\u001b[0m     \u001b[39mself\u001b[39m,\n\u001b[0;32m   9548\u001b[0m     func\u001b[39m=\u001b[39mfunc,\n\u001b[1;32m   (...)\u001b[0m\n\u001b[0;32m   9553\u001b[0m     kwargs\u001b[39m=\u001b[39mkwargs,\n\u001b[0;32m   9554\u001b[0m )\n\u001b[1;32m-> 9555\u001b[0m \u001b[39mreturn\u001b[39;00m op\u001b[39m.\u001b[39;49mapply()\u001b[39m.\u001b[39m__finalize__(\u001b[39mself\u001b[39m, method\u001b[39m=\u001b[39m\u001b[39m\"\u001b[39m\u001b[39mapply\u001b[39m\u001b[39m\"\u001b[39m)\n",
      "File \u001b[1;32mc:\\Users\\Dawid\\Anaconda3\\envs\\hack_venv\\lib\\site-packages\\pandas\\core\\apply.py:746\u001b[0m, in \u001b[0;36mFrameApply.apply\u001b[1;34m(self)\u001b[0m\n\u001b[0;32m    743\u001b[0m \u001b[39melif\u001b[39;00m \u001b[39mself\u001b[39m\u001b[39m.\u001b[39mraw:\n\u001b[0;32m    744\u001b[0m     \u001b[39mreturn\u001b[39;00m \u001b[39mself\u001b[39m\u001b[39m.\u001b[39mapply_raw()\n\u001b[1;32m--> 746\u001b[0m \u001b[39mreturn\u001b[39;00m \u001b[39mself\u001b[39;49m\u001b[39m.\u001b[39;49mapply_standard()\n",
      "File \u001b[1;32mc:\\Users\\Dawid\\Anaconda3\\envs\\hack_venv\\lib\\site-packages\\pandas\\core\\apply.py:873\u001b[0m, in \u001b[0;36mFrameApply.apply_standard\u001b[1;34m(self)\u001b[0m\n\u001b[0;32m    872\u001b[0m \u001b[39mdef\u001b[39;00m \u001b[39mapply_standard\u001b[39m(\u001b[39mself\u001b[39m):\n\u001b[1;32m--> 873\u001b[0m     results, res_index \u001b[39m=\u001b[39m \u001b[39mself\u001b[39;49m\u001b[39m.\u001b[39;49mapply_series_generator()\n\u001b[0;32m    875\u001b[0m     \u001b[39m# wrap results\u001b[39;00m\n\u001b[0;32m    876\u001b[0m     \u001b[39mreturn\u001b[39;00m \u001b[39mself\u001b[39m\u001b[39m.\u001b[39mwrap_results(results, res_index)\n",
      "File \u001b[1;32mc:\\Users\\Dawid\\Anaconda3\\envs\\hack_venv\\lib\\site-packages\\pandas\\core\\apply.py:889\u001b[0m, in \u001b[0;36mFrameApply.apply_series_generator\u001b[1;34m(self)\u001b[0m\n\u001b[0;32m    886\u001b[0m \u001b[39mwith\u001b[39;00m option_context(\u001b[39m\"\u001b[39m\u001b[39mmode.chained_assignment\u001b[39m\u001b[39m\"\u001b[39m, \u001b[39mNone\u001b[39;00m):\n\u001b[0;32m    887\u001b[0m     \u001b[39mfor\u001b[39;00m i, v \u001b[39min\u001b[39;00m \u001b[39menumerate\u001b[39m(series_gen):\n\u001b[0;32m    888\u001b[0m         \u001b[39m# ignore SettingWithCopy here in case the user mutates\u001b[39;00m\n\u001b[1;32m--> 889\u001b[0m         results[i] \u001b[39m=\u001b[39m \u001b[39mself\u001b[39;49m\u001b[39m.\u001b[39;49mf(v)\n\u001b[0;32m    890\u001b[0m         \u001b[39mif\u001b[39;00m \u001b[39misinstance\u001b[39m(results[i], ABCSeries):\n\u001b[0;32m    891\u001b[0m             \u001b[39m# If we have a view on v, we need to make a copy because\u001b[39;00m\n\u001b[0;32m    892\u001b[0m             \u001b[39m#  series_generator will swap out the underlying data\u001b[39;00m\n\u001b[0;32m    893\u001b[0m             results[i] \u001b[39m=\u001b[39m results[i]\u001b[39m.\u001b[39mcopy(deep\u001b[39m=\u001b[39m\u001b[39mFalse\u001b[39;00m)\n",
      "File \u001b[1;32mc:\\Users\\Dawid\\Anaconda3\\envs\\hack_venv\\lib\\site-packages\\pandas\\core\\apply.py:139\u001b[0m, in \u001b[0;36mApply.__init__.<locals>.f\u001b[1;34m(x)\u001b[0m\n\u001b[0;32m    138\u001b[0m \u001b[39mdef\u001b[39;00m \u001b[39mf\u001b[39m(x):\n\u001b[1;32m--> 139\u001b[0m     \u001b[39mreturn\u001b[39;00m func(x, \u001b[39m*\u001b[39;49margs, \u001b[39m*\u001b[39;49m\u001b[39m*\u001b[39;49mkwargs)\n",
      "\u001b[1;31mTypeError\u001b[0m: get_nr() got an unexpected keyword argument 'index'"
     ]
    }
   ],
   "source": [
    "a = df.apply(get_nr)"
   ]
  }
 ],
 "metadata": {
  "kernelspec": {
   "display_name": "Python 3.8.13 ('hack_venv')",
   "language": "python",
   "name": "python3"
  },
  "language_info": {
   "codemirror_mode": {
    "name": "ipython",
    "version": 3
   },
   "file_extension": ".py",
   "mimetype": "text/x-python",
   "name": "python",
   "nbconvert_exporter": "python",
   "pygments_lexer": "ipython3",
   "version": "3.8.13"
  },
  "orig_nbformat": 4,
  "vscode": {
   "interpreter": {
    "hash": "e98807ee2f3da63852960dc6020a5ec887e95e81874581de0b8e6ab43381f528"
   }
  }
 },
 "nbformat": 4,
 "nbformat_minor": 2
}
