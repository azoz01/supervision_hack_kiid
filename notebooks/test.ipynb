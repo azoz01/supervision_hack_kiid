{
 "cells": [
  {
   "cell_type": "code",
   "execution_count": 1,
   "metadata": {},
   "outputs": [],
   "source": [
    "import os\n",
    "os.chdir(\"..\")"
   ]
  },
  {
   "cell_type": "code",
   "execution_count": 7,
   "metadata": {},
   "outputs": [],
   "source": [
    "import pandas as pd\n",
    "import spacy\n",
    "import re\n",
    "nlp = spacy.load(\"pl_core_news_lg\")\n",
    "categories = [\"A\", \"A1\", \"B\", \"B1\", \"C\", \"C1\", \"E\"]"
   ]
  },
  {
   "cell_type": "code",
   "execution_count": 41,
   "metadata": {},
   "outputs": [],
   "source": [
    "df = pd.read_parquet(\"data/parsed\")\n",
    "regex = r\"\\d{1,4}%\""
   ]
  },
  {
   "cell_type": "code",
   "execution_count": 47,
   "metadata": {},
   "outputs": [
    {
     "data": {
      "text/plain": [
       "'Allianz_SFIO_PPK_2025_KIID.pdf'"
      ]
     },
     "execution_count": 47,
     "metadata": {},
     "output_type": "execute_result"
    }
   ],
   "source": [
    "df.loc[0, \"filename\"]"
   ]
  },
  {
   "cell_type": "code",
   "execution_count": 48,
   "metadata": {},
   "outputs": [],
   "source": [
    "text = df.loc[0, \"cele i polityka inwestycyjna\"]\n",
    "doc = nlp(text)"
   ]
  },
  {
   "cell_type": "code",
   "execution_count": 97,
   "metadata": {},
   "outputs": [],
   "source": [
    "def get_min_udzialowa(row):\n",
    "    text = row[\"cele i polityka inwestycyjna\"]\n",
    "    percent_regex = r\"\\d{1,3}%\"\n",
    "    filtered_sents = [sent for sent in doc.sents if \"udziałow\" in str(sent)]\n",
    "    min_percent = float(\"inf\")\n",
    "    for sent in filtered_sents:\n",
    "        percents = re.findall(regex, text)\n",
    "        percents = list(map(lambda s: int(s[:-1]), percents))\n",
    "        min_percent = min(percents + [min_percent])\n",
    "    if min_percent is float(\"inf\"):\n",
    "        min_percent = None\n",
    "    return min_percent"
   ]
  },
  {
   "cell_type": "code",
   "execution_count": 102,
   "metadata": {},
   "outputs": [],
   "source": [
    "def get_max_udzialowa(row):\n",
    "    text = row[\"cele i polityka inwestycyjna\"]\n",
    "    percent_regex = r\"\\d{1,3}%\"\n",
    "    filtered_sents = [sent for sent in doc.sents if \"udziałow\" in str(sent)]\n",
    "    max_percent = float(\"-inf\")\n",
    "    for sent in filtered_sents:\n",
    "        percents = re.findall(regex, text)\n",
    "        percents = list(map(lambda s: int(s[:-1]), percents))\n",
    "        max_percent = max(percents + [max_percent])\n",
    "    if max_percent is float(\"-inf\"):\n",
    "        max_percent = None\n",
    "    return max_percent"
   ]
  },
  {
   "cell_type": "code",
   "execution_count": null,
   "metadata": {},
   "outputs": [],
   "source": [
    "def get_min_dluzna(row):\n",
    "    text = row[\"cele i polityka inwestycyjna\"]\n",
    "    percent_regex = r\"\\d{1,3}%\"\n",
    "    filtered_sents = [sent for sent in doc.sents if \"dłuż\" in str(sent)]\n",
    "    min_percent = float(\"inf\")\n",
    "    for sent in filtered_sents:\n",
    "        percents = re.findall(regex, text)\n",
    "        percents = list(map(lambda s: int(s[:-1]), percents))\n",
    "        min_percent = min(percents + [min_percent])\n",
    "    if min_percent is float(\"inf\"):\n",
    "        min_percent = None\n",
    "    return min_percent"
   ]
  },
  {
   "cell_type": "code",
   "execution_count": null,
   "metadata": {},
   "outputs": [],
   "source": [
    "def get_max_udzialowa(row):\n",
    "    text = row[\"cele i polityka inwestycyjna\"]\n",
    "    percent_regex = r\"\\d{1,3}%\"\n",
    "    filtered_sents = [sent for sent in doc.sents if \"dłuż\" in str(sent)]\n",
    "    max_percent = float(\"-inf\")\n",
    "    for sent in filtered_sents:\n",
    "        percents = re.findall(regex, text)\n",
    "        percents = list(map(lambda s: int(s[:-1]), percents))\n",
    "        max_percent = max(percents + [max_percent])\n",
    "    if max_percent is float(\"-inf\"):\n",
    "        max_percent = None\n",
    "    return max_percent"
   ]
  },
  {
   "cell_type": "code",
   "execution_count": 105,
   "metadata": {},
   "outputs": [],
   "source": [
    "def get_min_tyt_udz(row):\n",
    "    text = row[\"cele i polityka inwestycyjna\"]\n",
    "    percent_regex = r\"\\d{1,3}%\"\n",
    "    filtered_sents = [sent for sent in doc.sents if \"tyt\" in str(sent) and \"ucz\" in str(sent)]\n",
    "    min_percent = float(\"inf\")\n",
    "    for sent in filtered_sents:\n",
    "        percents = re.findall(regex, text)\n",
    "        percents = list(map(lambda s: int(s[:-1]), percents))\n",
    "        min_percent = min(percents + [min_percent])\n",
    "    if min_percent is float(\"inf\"):\n",
    "        min_percent = None\n",
    "    return min_percent"
   ]
  },
  {
   "cell_type": "code",
   "execution_count": 107,
   "metadata": {},
   "outputs": [],
   "source": [
    "def get_max_tyt_udz(row):\n",
    "    text = row[\"cele i polityka inwestycyjna\"]\n",
    "    percent_regex = r\"\\d{1,3}%\"\n",
    "    filtered_sents = [sent for sent in doc.sents if \"tyt\" in str(sent) and \"ucz\" in str(sent)]\n",
    "    max_percent = float(\"-inf\")\n",
    "    for sent in filtered_sents:\n",
    "        percents = re.findall(regex, text)\n",
    "        percents = list(map(lambda s: int(s[:-1]), percents))\n",
    "        max_percent = max(percents + [max_percent])\n",
    "    if max_percent is float(\"-inf\"):\n",
    "        max_percent = None\n",
    "    return max_percent"
   ]
  },
  {
   "cell_type": "code",
   "execution_count": null,
   "metadata": {},
   "outputs": [],
   "source": [
    "dluzne = []\n",
    "udzialowe = []\n",
    "percent_regex = r\"\\d{1,3}%\"\n",
    "sents = doc.sents\n",
    "for sent in sents:\n",
    "    if \"ucze\" in str(sent):\n",
    "        type = \"ucz\"\n",
    "    elif \"dłuż\" in str(sent):\n",
    "        type = \"d\"\n",
    "    if \"udzi\" in str(sent):\n",
    "        type = \"u\"\n",
    "    else:\n",
    "        type = None\n",
    "    percents = re.findall(regex, text)\n",
    "    percents = list(map(lambda s: int(s[:-1]), percents))\n",
    "    min_percent = min(percents)\n",
    "    max_percent = max(percents)\n",
    "    print(type)"
   ]
  },
  {
   "cell_type": "code",
   "execution_count": 71,
   "metadata": {},
   "outputs": [
    {
     "data": {
      "text/plain": [
       "[wynosi]"
      ]
     },
     "execution_count": 71,
     "metadata": {},
     "output_type": "execute_result"
    }
   ],
   "source": [
    "dluzne = []\n",
    "udzialowe = []\n",
    "\n",
    "for token in percent_tokens:\n",
    "    token = [token]\n",
    "    while token:\n",
    "        \n",
    "        list(percent_tokens[0].ancestors)"
   ]
  },
  {
   "cell_type": "code",
   "execution_count": 46,
   "metadata": {},
   "outputs": [],
   "source": [
    "\n"
   ]
  },
  {
   "cell_type": "code",
   "execution_count": 76,
   "metadata": {},
   "outputs": [
    {
     "data": {
      "text/plain": [
       "'\\\\d{1,4}%'"
      ]
     },
     "execution_count": 76,
     "metadata": {},
     "output_type": "execute_result"
    }
   ],
   "source": [
    "regex=r\"\\d{1,3}%\""
   ]
  }
 ],
 "metadata": {
  "kernelspec": {
   "display_name": "Python 3.8.10 ('supervision_hack_2022')",
   "language": "python",
   "name": "python3"
  },
  "language_info": {
   "codemirror_mode": {
    "name": "ipython",
    "version": 3
   },
   "file_extension": ".py",
   "mimetype": "text/x-python",
   "name": "python",
   "nbconvert_exporter": "python",
   "pygments_lexer": "ipython3",
   "version": "3.8.10"
  },
  "orig_nbformat": 4,
  "vscode": {
   "interpreter": {
    "hash": "e67fcfc5a67096e1854e2dd0704aee2d7fe9480c274e7e0e9954a4c4c5970181"
   }
  }
 },
 "nbformat": 4,
 "nbformat_minor": 2
}
