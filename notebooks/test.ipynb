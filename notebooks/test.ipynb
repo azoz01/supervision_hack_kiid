{
 "cells": [
  {
   "cell_type": "code",
   "execution_count": 1,
   "metadata": {},
   "outputs": [],
   "source": [
    "import os\n",
    "os.chdir(\"..\")"
   ]
  },
  {
   "cell_type": "code",
   "execution_count": 7,
   "metadata": {},
   "outputs": [],
   "source": [
    "import pandas as pd\n",
    "import spacy\n",
    "import re\n",
    "nlp = spacy.load(\"pl_core_news_lg\")\n",
    "categories = [\"A\", \"A1\", \"B\", \"B1\", \"C\", \"C1\", \"E\"]"
   ]
  },
  {
   "cell_type": "code",
   "execution_count": 10,
   "metadata": {},
   "outputs": [],
   "source": [
    "df = pd.read_parquet(\"data/parsed\")"
   ]
  },
  {
   "cell_type": "code",
   "execution_count": 23,
   "metadata": {},
   "outputs": [],
   "source": [
    "def get_category(row):\n",
    "    text = row[\"raw_text\"]\n",
    "    doc = nlp(text)\n",
    "    sents = list(doc.sents)\n",
    "    filtered_sents = list(filter(lambda s: \"kate\" in str(s) or \"kat.\" in str(s), sents))\n",
    "    for sent in filtered_sents:\n",
    "        matched_cats = []\n",
    "        for cat in categories:\n",
    "            if f\" {cat}\" in str(sent) or f\"{cat} \" in str(sent):\n",
    "                matched_cats.append(cat)\n",
    "        if len(matched_cats) == 1:\n",
    "            return matched_cats[0]\n",
    "    return None"
   ]
  },
  {
   "cell_type": "code",
   "execution_count": 24,
   "metadata": {},
   "outputs": [
    {
     "data": {
      "text/plain": [
       "0     None\n",
       "1     None\n",
       "2        A\n",
       "3        A\n",
       "4     None\n",
       "5     None\n",
       "6        A\n",
       "7        A\n",
       "8        C\n",
       "9        C\n",
       "10       A\n",
       "dtype: object"
      ]
     },
     "execution_count": 24,
     "metadata": {},
     "output_type": "execute_result"
    }
   ],
   "source": [
    "df.apply(get_category, axis=1)"
   ]
  },
  {
   "cell_type": "code",
   "execution_count": 11,
   "metadata": {},
   "outputs": [],
   "source": [
    "df = df.loc[:10]"
   ]
  }
 ],
 "metadata": {
  "kernelspec": {
   "display_name": "Python 3.8.10 ('supervision_hack_2022')",
   "language": "python",
   "name": "python3"
  },
  "language_info": {
   "codemirror_mode": {
    "name": "ipython",
    "version": 3
   },
   "file_extension": ".py",
   "mimetype": "text/x-python",
   "name": "python",
   "nbconvert_exporter": "python",
   "pygments_lexer": "ipython3",
   "version": "3.8.10"
  },
  "orig_nbformat": 4,
  "vscode": {
   "interpreter": {
    "hash": "e67fcfc5a67096e1854e2dd0704aee2d7fe9480c274e7e0e9954a4c4c5970181"
   }
  }
 },
 "nbformat": 4,
 "nbformat_minor": 2
}
