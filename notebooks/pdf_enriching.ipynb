{
 "cells": [
  {
   "cell_type": "code",
   "execution_count": 84,
   "metadata": {},
   "outputs": [],
   "source": [
    "import pandas as pd\n",
    "import re\n",
    "\n",
    "from functools import partial"
   ]
  },
  {
   "cell_type": "code",
   "execution_count": 2,
   "metadata": {},
   "outputs": [],
   "source": [
    "df = pd.read_parquet('./../data/parsed/kiids_parsed.parquet')"
   ]
  },
  {
   "cell_type": "code",
   "execution_count": 3,
   "metadata": {},
   "outputs": [
    {
     "data": {
      "text/html": [
       "<div>\n",
       "<style scoped>\n",
       "    .dataframe tbody tr th:only-of-type {\n",
       "        vertical-align: middle;\n",
       "    }\n",
       "\n",
       "    .dataframe tbody tr th {\n",
       "        vertical-align: top;\n",
       "    }\n",
       "\n",
       "    .dataframe thead th {\n",
       "        text-align: right;\n",
       "    }\n",
       "</style>\n",
       "<table border=\"1\" class=\"dataframe\">\n",
       "  <thead>\n",
       "    <tr style=\"text-align: right;\">\n",
       "      <th></th>\n",
       "      <th>filename</th>\n",
       "      <th>raw_text</th>\n",
       "      <th>intro</th>\n",
       "      <th>cele i polityka inwestycyjna</th>\n",
       "      <th>profil ryzyka i zysku</th>\n",
       "      <th>opłaty</th>\n",
       "      <th>wyniki osiągnięte w przeszłości</th>\n",
       "      <th>informacje praktyczne</th>\n",
       "    </tr>\n",
       "  </thead>\n",
       "  <tbody>\n",
       "    <tr>\n",
       "      <th>0</th>\n",
       "      <td>KIID_MIL25_2022-02-21.pdf</td>\n",
       "      <td>Kluczowe informacje dla Inwestorów \\n\\nNiniejs...</td>\n",
       "      <td>Kluczowe informacje dla Inwestorów \\n\\nNiniejs...</td>\n",
       "      <td>CELE I POLITYKA INWESTYCYJNA \\n\\nCelem  inwest...</td>\n",
       "      <td>PROFIL RYZYKA I ZYSKU \\n\\nNiższe ryzyko\\n\\nWyż...</td>\n",
       "      <td>OPŁATY \\n\\nJednorazowe  opłaty  pobierane  prz...</td>\n",
       "      <td>WYNIKI OSIĄGNIĘTE W PRZESZŁOŚCI \\n\\nRoczne sto...</td>\n",
       "      <td>INFORMACJE PRAKTYCZNE \\n\\nDepozytariuszem Subf...</td>\n",
       "    </tr>\n",
       "  </tbody>\n",
       "</table>\n",
       "</div>"
      ],
      "text/plain": [
       "                    filename  \\\n",
       "0  KIID_MIL25_2022-02-21.pdf   \n",
       "\n",
       "                                            raw_text  \\\n",
       "0  Kluczowe informacje dla Inwestorów \\n\\nNiniejs...   \n",
       "\n",
       "                                               intro  \\\n",
       "0  Kluczowe informacje dla Inwestorów \\n\\nNiniejs...   \n",
       "\n",
       "                        cele i polityka inwestycyjna  \\\n",
       "0  CELE I POLITYKA INWESTYCYJNA \\n\\nCelem  inwest...   \n",
       "\n",
       "                               profil ryzyka i zysku  \\\n",
       "0  PROFIL RYZYKA I ZYSKU \\n\\nNiższe ryzyko\\n\\nWyż...   \n",
       "\n",
       "                                              opłaty  \\\n",
       "0  OPŁATY \\n\\nJednorazowe  opłaty  pobierane  prz...   \n",
       "\n",
       "                     wyniki osiągnięte w przeszłości  \\\n",
       "0  WYNIKI OSIĄGNIĘTE W PRZESZŁOŚCI \\n\\nRoczne sto...   \n",
       "\n",
       "                               informacje praktyczne  \n",
       "0  INFORMACJE PRAKTYCZNE \\n\\nDepozytariuszem Subf...  "
      ]
     },
     "execution_count": 3,
     "metadata": {},
     "output_type": "execute_result"
    }
   ],
   "source": [
    "df"
   ]
  },
  {
   "cell_type": "code",
   "execution_count": 12,
   "metadata": {},
   "outputs": [],
   "source": [
    "paragraph = df.iloc[0,3]"
   ]
  },
  {
   "cell_type": "code",
   "execution_count": 27,
   "metadata": {},
   "outputs": [],
   "source": [
    "p_marked = re.sub('\\n\\n', '<p>', paragraph)\n",
    "p_trimmed = re.sub('\\s+', ' ', p_marked)\n",
    "p_fixed = re.sub('<p>', '\\n', p_trimmed)"
   ]
  },
  {
   "cell_type": "markdown",
   "metadata": {},
   "source": [
    "# Find funds info"
   ]
  },
  {
   "cell_type": "code",
   "execution_count": 214,
   "metadata": {},
   "outputs": [],
   "source": [
    "doc_text = df.raw_text[0]"
   ]
  },
  {
   "cell_type": "code",
   "execution_count": 215,
   "metadata": {},
   "outputs": [],
   "source": [
    "knf_df = pd.read_pickle('./../data/knf_funds.pkl')"
   ]
  },
  {
   "cell_type": "code",
   "execution_count": 216,
   "metadata": {},
   "outputs": [
    {
     "data": {
      "text/plain": [
       "(1390, 6)"
      ]
     },
     "execution_count": 216,
     "metadata": {},
     "output_type": "execute_result"
    }
   ],
   "source": [
    "knf_df.shape"
   ]
  },
  {
   "cell_type": "code",
   "execution_count": 228,
   "metadata": {},
   "outputs": [
    {
     "data": {
      "text/html": [
       "<div>\n",
       "<style scoped>\n",
       "    .dataframe tbody tr th:only-of-type {\n",
       "        vertical-align: middle;\n",
       "    }\n",
       "\n",
       "    .dataframe tbody tr th {\n",
       "        vertical-align: top;\n",
       "    }\n",
       "\n",
       "    .dataframe thead th {\n",
       "        text-align: right;\n",
       "    }\n",
       "</style>\n",
       "<table border=\"1\" class=\"dataframe\">\n",
       "  <thead>\n",
       "    <tr style=\"text-align: right;\">\n",
       "      <th></th>\n",
       "      <th>fundusz</th>\n",
       "      <th>subfundusz</th>\n",
       "      <th>indentyfikator_krajowy</th>\n",
       "      <th>nr_w_rejestrze</th>\n",
       "      <th>towarzystwo</th>\n",
       "      <th>identyfikator_krajowy_funduszu</th>\n",
       "    </tr>\n",
       "  </thead>\n",
       "  <tbody>\n",
       "    <tr>\n",
       "      <th>0</th>\n",
       "      <td>ABELIA CAPITAL Fundusz Inwestycyjny Zamknięty ...</td>\n",
       "      <td>None</td>\n",
       "      <td>PLFIZ000030</td>\n",
       "      <td>1212</td>\n",
       "      <td>AgioFunds Towarzystwo Funduszy Inwestycyjnych ...</td>\n",
       "      <td>PLTFI000036</td>\n",
       "    </tr>\n",
       "    <tr>\n",
       "      <th>1</th>\n",
       "      <td>AD ROYAL Fundusz Inwestycyjny Zamknięty Aktywó...</td>\n",
       "      <td>None</td>\n",
       "      <td>PLFIZ000572</td>\n",
       "      <td>420</td>\n",
       "      <td>AgioFunds Towarzystwo Funduszy Inwestycyjnych ...</td>\n",
       "      <td>PLTFI000036</td>\n",
       "    </tr>\n",
       "    <tr>\n",
       "      <th>2</th>\n",
       "      <td>AGIO Nieruchomości Komercyjnych Fundusz Inwest...</td>\n",
       "      <td>None</td>\n",
       "      <td>PLFIZ000037</td>\n",
       "      <td>986</td>\n",
       "      <td>AgioFunds Towarzystwo Funduszy Inwestycyjnych ...</td>\n",
       "      <td>PLTFI000036</td>\n",
       "    </tr>\n",
       "    <tr>\n",
       "      <th>3</th>\n",
       "      <td>AGIO PLUS Fundusz Inwestycyjny Otwarty</td>\n",
       "      <td>None</td>\n",
       "      <td>PLFIO000281</td>\n",
       "      <td>1309</td>\n",
       "      <td>AgioFunds Towarzystwo Funduszy Inwestycyjnych ...</td>\n",
       "      <td>PLTFI000036</td>\n",
       "    </tr>\n",
       "    <tr>\n",
       "      <th>4</th>\n",
       "      <td>AGIO PLUS Fundusz Inwestycyjny Otwarty</td>\n",
       "      <td>Subfundusz AGIO Akcji PLUS</td>\n",
       "      <td>PLFIO000264</td>\n",
       "      <td>1309</td>\n",
       "      <td>AgioFunds Towarzystwo Funduszy Inwestycyjnych ...</td>\n",
       "      <td>PLTFI000036</td>\n",
       "    </tr>\n",
       "  </tbody>\n",
       "</table>\n",
       "</div>"
      ],
      "text/plain": [
       "                                             fundusz  \\\n",
       "0  ABELIA CAPITAL Fundusz Inwestycyjny Zamknięty ...   \n",
       "1  AD ROYAL Fundusz Inwestycyjny Zamknięty Aktywó...   \n",
       "2  AGIO Nieruchomości Komercyjnych Fundusz Inwest...   \n",
       "3             AGIO PLUS Fundusz Inwestycyjny Otwarty   \n",
       "4             AGIO PLUS Fundusz Inwestycyjny Otwarty   \n",
       "\n",
       "                   subfundusz indentyfikator_krajowy nr_w_rejestrze  \\\n",
       "0                        None            PLFIZ000030           1212   \n",
       "1                        None            PLFIZ000572            420   \n",
       "2                        None            PLFIZ000037            986   \n",
       "3                        None            PLFIO000281           1309   \n",
       "4  Subfundusz AGIO Akcji PLUS            PLFIO000264           1309   \n",
       "\n",
       "                                         towarzystwo  \\\n",
       "0  AgioFunds Towarzystwo Funduszy Inwestycyjnych ...   \n",
       "1  AgioFunds Towarzystwo Funduszy Inwestycyjnych ...   \n",
       "2  AgioFunds Towarzystwo Funduszy Inwestycyjnych ...   \n",
       "3  AgioFunds Towarzystwo Funduszy Inwestycyjnych ...   \n",
       "4  AgioFunds Towarzystwo Funduszy Inwestycyjnych ...   \n",
       "\n",
       "  identyfikator_krajowy_funduszu  \n",
       "0                    PLTFI000036  \n",
       "1                    PLTFI000036  \n",
       "2                    PLTFI000036  \n",
       "3                    PLTFI000036  \n",
       "4                    PLTFI000036  "
      ]
     },
     "execution_count": 228,
     "metadata": {},
     "output_type": "execute_result"
    }
   ],
   "source": [
    "knf_df.head()"
   ]
  },
  {
   "cell_type": "code",
   "execution_count": 218,
   "metadata": {},
   "outputs": [],
   "source": [
    "is_this = df_1['subfundusz'].apply(lambda text: re.search(f'{text}' , doc_text))"
   ]
  },
  {
   "cell_type": "code",
   "execution_count": 219,
   "metadata": {},
   "outputs": [
    {
     "data": {
      "text/html": [
       "<div>\n",
       "<style scoped>\n",
       "    .dataframe tbody tr th:only-of-type {\n",
       "        vertical-align: middle;\n",
       "    }\n",
       "\n",
       "    .dataframe tbody tr th {\n",
       "        vertical-align: top;\n",
       "    }\n",
       "\n",
       "    .dataframe thead th {\n",
       "        text-align: right;\n",
       "    }\n",
       "</style>\n",
       "<table border=\"1\" class=\"dataframe\">\n",
       "  <thead>\n",
       "    <tr style=\"text-align: right;\">\n",
       "      <th></th>\n",
       "      <th>fundusz</th>\n",
       "      <th>subfundusz</th>\n",
       "      <th>indentyfikator_krajowy</th>\n",
       "      <th>nr_w_rejestrze</th>\n",
       "      <th>towarzystwo</th>\n",
       "      <th>identyfikator_krajowy</th>\n",
       "    </tr>\n",
       "  </thead>\n",
       "  <tbody>\n",
       "    <tr>\n",
       "      <th>19</th>\n",
       "      <td>Millennium Fundusz Inwestycyjny Otwarty</td>\n",
       "      <td>Subfundusz Obligacji Globalnych</td>\n",
       "      <td>PLSFIO00002</td>\n",
       "      <td>182</td>\n",
       "      <td>MILLENNIUM Towarzystwo Funduszy Inwestycyjnych...</td>\n",
       "      <td>PLTFI000011</td>\n",
       "    </tr>\n",
       "    <tr>\n",
       "      <th>85</th>\n",
       "      <td>Allianz Strategiczny Specjalistyczny Fundusz I...</td>\n",
       "      <td>Subfundusz Obligacji</td>\n",
       "      <td>PLSFIO00089</td>\n",
       "      <td>614</td>\n",
       "      <td>Towarzystwo Funduszy Inwestycyjnych Allianz Po...</td>\n",
       "      <td>PLTFI000013</td>\n",
       "    </tr>\n",
       "  </tbody>\n",
       "</table>\n",
       "</div>"
      ],
      "text/plain": [
       "                                              fundusz  \\\n",
       "19            Millennium Fundusz Inwestycyjny Otwarty   \n",
       "85  Allianz Strategiczny Specjalistyczny Fundusz I...   \n",
       "\n",
       "                         subfundusz indentyfikator_krajowy nr_w_rejestrze  \\\n",
       "19  Subfundusz Obligacji Globalnych            PLSFIO00002            182   \n",
       "85             Subfundusz Obligacji            PLSFIO00089            614   \n",
       "\n",
       "                                          towarzystwo identyfikator_krajowy  \n",
       "19  MILLENNIUM Towarzystwo Funduszy Inwestycyjnych...           PLTFI000011  \n",
       "85  Towarzystwo Funduszy Inwestycyjnych Allianz Po...           PLTFI000013  "
      ]
     },
     "execution_count": 219,
     "metadata": {},
     "output_type": "execute_result"
    }
   ],
   "source": [
    "df_1[~is_this.isna()]"
   ]
  },
  {
   "cell_type": "code",
   "execution_count": 220,
   "metadata": {},
   "outputs": [
    {
     "data": {
      "text/plain": [
       "<re.Match object; span=(712, 715), match='182'>"
      ]
     },
     "execution_count": 220,
     "metadata": {},
     "output_type": "execute_result"
    }
   ],
   "source": [
    "re.search('182', doc_text)"
   ]
  },
  {
   "cell_type": "code",
   "execution_count": 221,
   "metadata": {},
   "outputs": [],
   "source": [
    "intro_text = df.intro[0]\n"
   ]
  },
  {
   "cell_type": "markdown",
   "metadata": {},
   "source": [
    "# Add data"
   ]
  },
  {
   "cell_type": "code",
   "execution_count": 222,
   "metadata": {},
   "outputs": [
    {
     "data": {
      "text/plain": [
       "182"
      ]
     },
     "execution_count": 222,
     "metadata": {},
     "output_type": "execute_result"
    }
   ],
   "source": [
    "does_not_id_exist = knf_df['nr_w_rejestrze'].apply(lambda register_id: re.search(str(register_id) , intro_text)).isna()\n",
    "df_filtered = knf_df[~ does_not_id_exist]\n",
    "\n",
    "df_filtered['nr_w_rejestrze'].iloc[0]"
   ]
  },
  {
   "cell_type": "code",
   "execution_count": 223,
   "metadata": {},
   "outputs": [
    {
     "data": {
      "text/plain": [
       "9     EQUES MICHAEL STRӦM CREDITUM Fundusz Inwestycy...\n",
       "9     Bonus Wierzytelności 2 Pragma Inkaso Niestanda...\n",
       "10    Bonus Wierzytelności 3 Pragma Inkaso Niestanda...\n",
       "23    Open Finance Wierzytelności Detalicznych Niest...\n",
       "17    Getback Windykacji Platinum Niestandaryzowany ...\n",
       "                            ...                        \n",
       "22                     BPS Fundusz Inwestycyjny Otwarty\n",
       "21                     BPS Fundusz Inwestycyjny Otwarty\n",
       "19                     BPS Fundusz Inwestycyjny Otwarty\n",
       "20                     BPS Fundusz Inwestycyjny Otwarty\n",
       "5                         LL FIZ Aktywów Niepublicznych\n",
       "Name: fundusz, Length: 1390, dtype: object"
      ]
     },
     "execution_count": 223,
     "metadata": {},
     "output_type": "execute_result"
    }
   ],
   "source": [
    "knf_df['fundusz'].sort_values(key=lambda x: x.str.len(), ascending=False)"
   ]
  },
  {
   "cell_type": "code",
   "execution_count": 224,
   "metadata": {},
   "outputs": [],
   "source": [
    "def retrive_register_id(knf_df: 'pd.DataFrame', intro_text: str) -> int:\n",
    "    \n",
    "    does_not_id_exist = knf_df['nr_w_rejestrze'].apply(lambda register_id: re.search(str(register_id) , intro_text)).isna()\n",
    "    df_filtered = knf_df[~ does_not_id_exist]\n",
    "\n",
    "    if len(df_filtered['nr_w_rejestrze'].unique()) > 1:\n",
    "        return None\n",
    "    \n",
    "    return df_filtered['nr_w_rejestrze'].iloc[0]"
   ]
  },
  {
   "cell_type": "code",
   "execution_count": 225,
   "metadata": {},
   "outputs": [],
   "source": [
    "def retrive_fund_name(knf_df: 'pd.DataFrame', intro_text: str) -> str:\n",
    "\n",
    "    does_not_name_exist = knf_df['fundusz'].apply(lambda register_id: re.search(str(register_id) , intro_text)).isna()\n",
    "    df_filtered = knf_df[~ does_not_id_exist]\n",
    "\n",
    "    fund_name = df_filtered['fundusz'].sort_values(key=lambda x: x.str.len(), ascending=False).iloc[0]\n",
    "\n",
    "    return fund_name\n",
    "   "
   ]
  },
  {
   "cell_type": "code",
   "execution_count": 226,
   "metadata": {},
   "outputs": [],
   "source": [
    "def retrive_subfund_name(knf_df: 'pd.DataFrame', intro_text: str) -> str:\n",
    "\n",
    "    does_not_name_exist = knf_df['subfundusz'].apply(lambda register_id: re.search(str(register_id) , intro_text)).isna()\n",
    "    df_filtered = knf_df[~ does_not_id_exist]\n",
    "\n",
    "    fund_name = df_filtered['subfundusz'].sort_values(key=lambda x: x.str.len(), ascending=False).iloc[0]\n",
    "\n",
    "    return fund_name"
   ]
  },
  {
   "cell_type": "code",
   "execution_count": 227,
   "metadata": {},
   "outputs": [],
   "source": [
    "def retrive_organisation_name(knf_df: 'pd.DataFrame', intro_text: str) -> str:\n",
    "\n",
    "    does_not_name_exist = knf_df['towarzystwo'].apply(lambda register_id: re.search(str(register_id) , intro_text)).isna()\n",
    "    df_filtered = knf_df[~ does_not_id_exist]\n",
    "\n",
    "    fund_name = df_filtered['towarzystwo'].sort_values(key=lambda x: x.str.len(), ascending=False).iloc[0]\n",
    "\n",
    "    return fund_name"
   ]
  },
  {
   "cell_type": "code",
   "execution_count": 171,
   "metadata": {},
   "outputs": [
    {
     "data": {
      "text/plain": [
       "0    182\n",
       "Name: intro, dtype: int64"
      ]
     },
     "execution_count": 171,
     "metadata": {},
     "output_type": "execute_result"
    }
   ],
   "source": [
    "df.intro.apply(lambda x : retrive_register_id(knf_df, x))"
   ]
  },
  {
   "cell_type": "code",
   "execution_count": 209,
   "metadata": {},
   "outputs": [
    {
     "data": {
      "text/plain": [
       "0    Millennium Specjalistyczny Fundusz Inwestycyjn...\n",
       "Name: intro, dtype: object"
      ]
     },
     "execution_count": 209,
     "metadata": {},
     "output_type": "execute_result"
    }
   ],
   "source": [
    "df.intro.apply(lambda x : retrive_fund_name(knf_df, x))"
   ]
  },
  {
   "cell_type": "code",
   "execution_count": 211,
   "metadata": {},
   "outputs": [
    {
     "data": {
      "text/plain": [
       "0    Subfundusz Obligacji Globalnych\n",
       "Name: intro, dtype: object"
      ]
     },
     "execution_count": 211,
     "metadata": {},
     "output_type": "execute_result"
    }
   ],
   "source": [
    "df.intro.apply(lambda x : retrive_subfund_name(knf_df, x))"
   ]
  },
  {
   "cell_type": "code",
   "execution_count": 213,
   "metadata": {},
   "outputs": [
    {
     "data": {
      "text/plain": [
       "0    MILLENNIUM Towarzystwo Funduszy Inwestycyjnych...\n",
       "Name: intro, dtype: object"
      ]
     },
     "execution_count": 213,
     "metadata": {},
     "output_type": "execute_result"
    }
   ],
   "source": [
    "df.intro.apply(lambda x : retrive_organisation_name(knf_df, x))"
   ]
  }
 ],
 "metadata": {
  "kernelspec": {
   "display_name": "Python 3.8.13 ('hack_venv')",
   "language": "python",
   "name": "python3"
  },
  "language_info": {
   "codemirror_mode": {
    "name": "ipython",
    "version": 3
   },
   "file_extension": ".py",
   "mimetype": "text/x-python",
   "name": "python",
   "nbconvert_exporter": "python",
   "pygments_lexer": "ipython3",
   "version": "3.8.13"
  },
  "orig_nbformat": 4,
  "vscode": {
   "interpreter": {
    "hash": "e98807ee2f3da63852960dc6020a5ec887e95e81874581de0b8e6ab43381f528"
   }
  }
 },
 "nbformat": 4,
 "nbformat_minor": 2
}
