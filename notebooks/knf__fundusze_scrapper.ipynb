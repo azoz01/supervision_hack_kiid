{
 "cells": [
  {
   "cell_type": "code",
   "execution_count": 50,
   "metadata": {},
   "outputs": [],
   "source": [
    "from bs4 import BeautifulSoup\n",
    "import requests\n",
    "import re\n",
    "import pandas as pd"
   ]
  },
  {
   "cell_type": "code",
   "execution_count": 6,
   "metadata": {},
   "outputs": [],
   "source": [
    "path = 'https://www.knf.gov.pl/podmioty/Podmioty_rynku_kapitalowego/Fundusze_Inwestycyjne/TFI_i_FI'\n",
    "html_doc = requests.get(path)"
   ]
  },
  {
   "cell_type": "code",
   "execution_count": 9,
   "metadata": {},
   "outputs": [],
   "source": [
    "soup = BeautifulSoup(html_doc.text)"
   ]
  },
  {
   "cell_type": "code",
   "execution_count": 18,
   "metadata": {},
   "outputs": [],
   "source": [
    "summary_table = soup.find_all(\"table\", {\"class\": \"sample\"})[0]"
   ]
  },
  {
   "cell_type": "code",
   "execution_count": 42,
   "metadata": {},
   "outputs": [],
   "source": [
    "links_regex = re.compile('^#.*$')\n",
    "country_id_regex = re.compile('Identyfikator krajowy: (PLTFI.{6})')"
   ]
  },
  {
   "cell_type": "code",
   "execution_count": 25,
   "metadata": {},
   "outputs": [],
   "source": [
    "links_to_sections = summary_table.find_all(\"a\", {'href' : links_regex})"
   ]
  },
  {
   "cell_type": "code",
   "execution_count": 31,
   "metadata": {},
   "outputs": [],
   "source": [
    "# section in html doc + full name of fund connected with it\n",
    "sections = list(map(lambda link: link['href'], links_to_sections))\n",
    "funds_names = list(map(lambda link: link.text, links_to_sections))\n"
   ]
  },
  {
   "cell_type": "code",
   "execution_count": 61,
   "metadata": {},
   "outputs": [],
   "source": [
    "headers = []\n",
    "country_ids = []\n",
    "dfs = []\n",
    "\n",
    "for section in sections:\n",
    "    link_before_section = soup.find('a', {'name' : section[1:]})\n",
    "\n",
    "    headers.append(link_before_section.findNext('h4').text) \n",
    "    country_ids.append(link_before_section.findNext(text=country_id_regex))\n",
    "    html_df_wrappers = link_before_section.findNext('div', {'class' : 'table-responsive'})\n",
    "    html_table = html_df_wrappers.find('table')\n",
    "    dfs.append(pd.read_html(str(html_table))[0])\n",
    "    # pd.read_html(html_df)\n"
   ]
  },
  {
   "cell_type": "code",
   "execution_count": 64,
   "metadata": {},
   "outputs": [
    {
     "data": {
      "text/html": [
       "<div>\n",
       "<style scoped>\n",
       "    .dataframe tbody tr th:only-of-type {\n",
       "        vertical-align: middle;\n",
       "    }\n",
       "\n",
       "    .dataframe tbody tr th {\n",
       "        vertical-align: top;\n",
       "    }\n",
       "\n",
       "    .dataframe thead th {\n",
       "        text-align: right;\n",
       "    }\n",
       "</style>\n",
       "<table border=\"1\" class=\"dataframe\">\n",
       "  <thead>\n",
       "    <tr style=\"text-align: right;\">\n",
       "      <th></th>\n",
       "      <th>fundusz</th>\n",
       "      <th>identyfikator krajowy</th>\n",
       "      <th>data decyzji KNF</th>\n",
       "      <th>data rejestracji w sądzie</th>\n",
       "      <th>nr w rejestrze funduszy inwestycyjnych</th>\n",
       "    </tr>\n",
       "  </thead>\n",
       "  <tbody>\n",
       "    <tr>\n",
       "      <th>0</th>\n",
       "      <td>ALIOR Specjalistyczny Fundusz Inwestycyjny Otw...</td>\n",
       "      <td>PLSFIO00217</td>\n",
       "      <td>28-11-2008</td>\n",
       "      <td>10-03-2009</td>\n",
       "      <td>449</td>\n",
       "    </tr>\n",
       "    <tr>\n",
       "      <th>1</th>\n",
       "      <td>Wydzielone subfundusze:</td>\n",
       "      <td>Wydzielone subfundusze:</td>\n",
       "      <td>28-11-2008</td>\n",
       "      <td>10-03-2009</td>\n",
       "      <td>449</td>\n",
       "    </tr>\n",
       "    <tr>\n",
       "      <th>2</th>\n",
       "      <td>Subfundusz ALIOR Akcji</td>\n",
       "      <td>PLSFIO00288</td>\n",
       "      <td>28-11-2008</td>\n",
       "      <td>10-03-2009</td>\n",
       "      <td>449</td>\n",
       "    </tr>\n",
       "    <tr>\n",
       "      <th>3</th>\n",
       "      <td>Subfundusz ALIOR Globalny Nowych Technologii</td>\n",
       "      <td>PLSFIO00287</td>\n",
       "      <td>28-11-2008</td>\n",
       "      <td>10-03-2009</td>\n",
       "      <td>449</td>\n",
       "    </tr>\n",
       "    <tr>\n",
       "      <th>4</th>\n",
       "      <td>Subfundusz ALIOR Obligacji</td>\n",
       "      <td>PLSFIO00268</td>\n",
       "      <td>28-11-2008</td>\n",
       "      <td>10-03-2009</td>\n",
       "      <td>449</td>\n",
       "    </tr>\n",
       "    <tr>\n",
       "      <th>5</th>\n",
       "      <td>Subfundusz ALIOR Ostrożny</td>\n",
       "      <td>PLSFIO00539</td>\n",
       "      <td>28-11-2008</td>\n",
       "      <td>10-03-2009</td>\n",
       "      <td>449</td>\n",
       "    </tr>\n",
       "    <tr>\n",
       "      <th>6</th>\n",
       "      <td>Subfundusz ALIOR Oszczędnościowy</td>\n",
       "      <td>PLSFIO00199</td>\n",
       "      <td>28-11-2008</td>\n",
       "      <td>10-03-2009</td>\n",
       "      <td>449</td>\n",
       "    </tr>\n",
       "    <tr>\n",
       "      <th>7</th>\n",
       "      <td>Subfundusz ALIOR Spokojny dla Ciebie</td>\n",
       "      <td>PLSFIO00484</td>\n",
       "      <td>28-11-2008</td>\n",
       "      <td>10-03-2009</td>\n",
       "      <td>449</td>\n",
       "    </tr>\n",
       "    <tr>\n",
       "      <th>8</th>\n",
       "      <td>Subfundusz ALIOR Stabilny na Przyszłość</td>\n",
       "      <td>PLSFIO00483</td>\n",
       "      <td>28-11-2008</td>\n",
       "      <td>10-03-2009</td>\n",
       "      <td>449</td>\n",
       "    </tr>\n",
       "    <tr>\n",
       "      <th>9</th>\n",
       "      <td>Subfundusz ALIOR Zrównoważony</td>\n",
       "      <td>PLSFIO00290</td>\n",
       "      <td>28-11-2008</td>\n",
       "      <td>10-03-2009</td>\n",
       "      <td>449</td>\n",
       "    </tr>\n",
       "    <tr>\n",
       "      <th>10</th>\n",
       "      <td>Bonus Wierzytelności 2 Pragma Inkaso Niestanda...</td>\n",
       "      <td>PLFIZ000120</td>\n",
       "      <td>NaN</td>\n",
       "      <td>24-05-2016</td>\n",
       "      <td>1367</td>\n",
       "    </tr>\n",
       "    <tr>\n",
       "      <th>11</th>\n",
       "      <td>Bonus Wierzytelności 3 Pragma Inkaso Niestanda...</td>\n",
       "      <td>PLFIZ000806</td>\n",
       "      <td>NaN</td>\n",
       "      <td>18-07-2016</td>\n",
       "      <td>1422</td>\n",
       "    </tr>\n",
       "  </tbody>\n",
       "</table>\n",
       "</div>"
      ],
      "text/plain": [
       "                                              fundusz  \\\n",
       "0   ALIOR Specjalistyczny Fundusz Inwestycyjny Otw...   \n",
       "1                             Wydzielone subfundusze:   \n",
       "2                              Subfundusz ALIOR Akcji   \n",
       "3        Subfundusz ALIOR Globalny Nowych Technologii   \n",
       "4                          Subfundusz ALIOR Obligacji   \n",
       "5                           Subfundusz ALIOR Ostrożny   \n",
       "6                    Subfundusz ALIOR Oszczędnościowy   \n",
       "7                Subfundusz ALIOR Spokojny dla Ciebie   \n",
       "8             Subfundusz ALIOR Stabilny na Przyszłość   \n",
       "9                       Subfundusz ALIOR Zrównoważony   \n",
       "10  Bonus Wierzytelności 2 Pragma Inkaso Niestanda...   \n",
       "11  Bonus Wierzytelności 3 Pragma Inkaso Niestanda...   \n",
       "\n",
       "      identyfikator krajowy data decyzji KNF data rejestracji w sądzie  \\\n",
       "0               PLSFIO00217       28-11-2008                10-03-2009   \n",
       "1   Wydzielone subfundusze:       28-11-2008                10-03-2009   \n",
       "2               PLSFIO00288       28-11-2008                10-03-2009   \n",
       "3               PLSFIO00287       28-11-2008                10-03-2009   \n",
       "4               PLSFIO00268       28-11-2008                10-03-2009   \n",
       "5               PLSFIO00539       28-11-2008                10-03-2009   \n",
       "6               PLSFIO00199       28-11-2008                10-03-2009   \n",
       "7               PLSFIO00484       28-11-2008                10-03-2009   \n",
       "8               PLSFIO00483       28-11-2008                10-03-2009   \n",
       "9               PLSFIO00290       28-11-2008                10-03-2009   \n",
       "10              PLFIZ000120              NaN                24-05-2016   \n",
       "11              PLFIZ000806              NaN                18-07-2016   \n",
       "\n",
       "    nr w rejestrze funduszy inwestycyjnych  \n",
       "0                                      449  \n",
       "1                                      449  \n",
       "2                                      449  \n",
       "3                                      449  \n",
       "4                                      449  \n",
       "5                                      449  \n",
       "6                                      449  \n",
       "7                                      449  \n",
       "8                                      449  \n",
       "9                                      449  \n",
       "10                                    1367  \n",
       "11                                    1422  "
      ]
     },
     "execution_count": 64,
     "metadata": {},
     "output_type": "execute_result"
    }
   ],
   "source": [
    "dfs[1]"
   ]
  }
 ],
 "metadata": {
  "kernelspec": {
   "display_name": "Python 3.8.13 ('hack_venv')",
   "language": "python",
   "name": "python3"
  },
  "language_info": {
   "codemirror_mode": {
    "name": "ipython",
    "version": 3
   },
   "file_extension": ".py",
   "mimetype": "text/x-python",
   "name": "python",
   "nbconvert_exporter": "python",
   "pygments_lexer": "ipython3",
   "version": "3.8.13"
  },
  "orig_nbformat": 4,
  "vscode": {
   "interpreter": {
    "hash": "e98807ee2f3da63852960dc6020a5ec887e95e81874581de0b8e6ab43381f528"
   }
  }
 },
 "nbformat": 4,
 "nbformat_minor": 2
}
