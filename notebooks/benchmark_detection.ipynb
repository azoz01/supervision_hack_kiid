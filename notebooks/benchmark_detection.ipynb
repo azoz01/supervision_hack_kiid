{
 "cells": [
  {
   "cell_type": "code",
   "execution_count": 1,
   "metadata": {},
   "outputs": [],
   "source": [
    "%load_ext lab_black"
   ]
  },
  {
   "cell_type": "code",
   "execution_count": 2,
   "metadata": {},
   "outputs": [],
   "source": [
    "import pandas as pd\n",
    "import re"
   ]
  },
  {
   "cell_type": "code",
   "execution_count": 3,
   "metadata": {},
   "outputs": [],
   "source": [
    "df = pd.read_parquet(\"./../data/parsed/kiids_parsed.parquet\")"
   ]
  },
  {
   "cell_type": "code",
   "execution_count": 4,
   "metadata": {},
   "outputs": [
    {
     "data": {
      "text/html": [
       "<div>\n",
       "<style scoped>\n",
       "    .dataframe tbody tr th:only-of-type {\n",
       "        vertical-align: middle;\n",
       "    }\n",
       "\n",
       "    .dataframe tbody tr th {\n",
       "        vertical-align: top;\n",
       "    }\n",
       "\n",
       "    .dataframe thead th {\n",
       "        text-align: right;\n",
       "    }\n",
       "</style>\n",
       "<table border=\"1\" class=\"dataframe\">\n",
       "  <thead>\n",
       "    <tr style=\"text-align: right;\">\n",
       "      <th></th>\n",
       "      <th>id</th>\n",
       "      <th>filename</th>\n",
       "      <th>raw_text</th>\n",
       "      <th>intro</th>\n",
       "      <th>cele i polityka inwestycyjna</th>\n",
       "      <th>profil ryzyka i zysku</th>\n",
       "      <th>opłaty</th>\n",
       "      <th>wyniki osiągnięte w przeszłości</th>\n",
       "      <th>informacje praktyczne</th>\n",
       "      <th>srri</th>\n",
       "    </tr>\n",
       "  </thead>\n",
       "  <tbody>\n",
       "    <tr>\n",
       "      <th>0</th>\n",
       "      <td>1</td>\n",
       "      <td>20200101_Noble_Fund_Global_Return_KIID.pdf</td>\n",
       "      <td>Kluczowe Informacje dla Inwestorów \\n\\nNiniejs...</td>\n",
       "      <td>Kluczowe Informacje dla Inwestorów \\n\\nNiniejs...</td>\n",
       "      <td>Cele i polityka inwestycyjna \\n\\n▪  Celem subf...</td>\n",
       "      <td>Profil ryzyka i zysku \\n\\n1 \\n\\n2 \\n\\n3 \\n\\n4 ...</td>\n",
       "      <td>Opłaty \\n\\nOpłaty ponoszone przez Inwestora pr...</td>\n",
       "      <td>Wyniki osiągnięte w przeszłości \\n\\n▪ Stopa zw...</td>\n",
       "      <td>Informacje praktyczne \\n\\nNiniejszy dokument z...</td>\n",
       "      <td>1.0</td>\n",
       "    </tr>\n",
       "    <tr>\n",
       "      <th>1</th>\n",
       "      <td>2</td>\n",
       "      <td>2a8b6117ca74777ec608ed18929fc8006ca385ed.pdf</td>\n",
       "      <td>KLUCZOWE INFORMACJE DLA INWESTORÓW \\n\\nNiniejs...</td>\n",
       "      <td>KLUCZOWE INFORMACJE DLA INWESTORÓW \\n\\nNiniejs...</td>\n",
       "      <td>Cele i polityka inwestycyjna \\nPekao  Strategi...</td>\n",
       "      <td>Profil Ryzyka i Zysku \\n\\nNiższe ryzyko \\nPote...</td>\n",
       "      <td>Opłaty \\nPoniższe opłaty służą pokryciu kosztó...</td>\n",
       "      <td>Wyniki osiągnięte w przeszłości \\nPoniższy wyk...</td>\n",
       "      <td>Informacje praktyczne \\nDepozytariusz: Bank Pe...</td>\n",
       "      <td>1.0</td>\n",
       "    </tr>\n",
       "  </tbody>\n",
       "</table>\n",
       "</div>"
      ],
      "text/plain": [
       "   id                                      filename  \\\n",
       "0   1    20200101_Noble_Fund_Global_Return_KIID.pdf   \n",
       "1   2  2a8b6117ca74777ec608ed18929fc8006ca385ed.pdf   \n",
       "\n",
       "                                            raw_text  \\\n",
       "0  Kluczowe Informacje dla Inwestorów \\n\\nNiniejs...   \n",
       "1  KLUCZOWE INFORMACJE DLA INWESTORÓW \\n\\nNiniejs...   \n",
       "\n",
       "                                               intro  \\\n",
       "0  Kluczowe Informacje dla Inwestorów \\n\\nNiniejs...   \n",
       "1  KLUCZOWE INFORMACJE DLA INWESTORÓW \\n\\nNiniejs...   \n",
       "\n",
       "                        cele i polityka inwestycyjna  \\\n",
       "0  Cele i polityka inwestycyjna \\n\\n▪  Celem subf...   \n",
       "1  Cele i polityka inwestycyjna \\nPekao  Strategi...   \n",
       "\n",
       "                               profil ryzyka i zysku  \\\n",
       "0  Profil ryzyka i zysku \\n\\n1 \\n\\n2 \\n\\n3 \\n\\n4 ...   \n",
       "1  Profil Ryzyka i Zysku \\n\\nNiższe ryzyko \\nPote...   \n",
       "\n",
       "                                              opłaty  \\\n",
       "0  Opłaty \\n\\nOpłaty ponoszone przez Inwestora pr...   \n",
       "1  Opłaty \\nPoniższe opłaty służą pokryciu kosztó...   \n",
       "\n",
       "                     wyniki osiągnięte w przeszłości  \\\n",
       "0  Wyniki osiągnięte w przeszłości \\n\\n▪ Stopa zw...   \n",
       "1  Wyniki osiągnięte w przeszłości \\nPoniższy wyk...   \n",
       "\n",
       "                               informacje praktyczne  srri  \n",
       "0  Informacje praktyczne \\n\\nNiniejszy dokument z...   1.0  \n",
       "1  Informacje praktyczne \\nDepozytariusz: Bank Pe...   1.0  "
      ]
     },
     "execution_count": 4,
     "metadata": {},
     "output_type": "execute_result"
    }
   ],
   "source": [
    "df"
   ]
  },
  {
   "cell_type": "code",
   "execution_count": 5,
   "metadata": {},
   "outputs": [],
   "source": [
    "def format_text(text: str) -> str:\n",
    "    text = text.replace(\"\\n\\n\", \"<p>\")\n",
    "    text = \" \".join(text.split())\n",
    "    text = text.replace(\"<p>\", \"\\n\")\n",
    "    return text"
   ]
  },
  {
   "cell_type": "code",
   "execution_count": 6,
   "metadata": {},
   "outputs": [],
   "source": [
    "full_text = format_text(df.iloc[1][\"raw_text\"])"
   ]
  },
  {
   "cell_type": "code",
   "execution_count": 10,
   "metadata": {},
   "outputs": [],
   "source": [
    "benchmark_regex = re.compile(\"benachmark\")"
   ]
  },
  {
   "cell_type": "code",
   "execution_count": 11,
   "metadata": {},
   "outputs": [],
   "source": [
    "paragraphs = full_text.split(\"\\n\")"
   ]
  },
  {
   "cell_type": "code",
   "execution_count": 13,
   "metadata": {},
   "outputs": [
    {
     "ename": "AttributeError",
     "evalue": "'str' object has no attribute 'contains'",
     "output_type": "error",
     "traceback": [
      "\u001b[1;31m---------------------------------------------------------------------------\u001b[0m",
      "\u001b[1;31mAttributeError\u001b[0m                            Traceback (most recent call last)",
      "Cell \u001b[1;32mIn [13], line 1\u001b[0m\n\u001b[1;32m----> 1\u001b[0m \u001b[39mlist\u001b[39;49m(\u001b[39mfilter\u001b[39;49m(\u001b[39mlambda\u001b[39;49;00m x: x\u001b[39m.\u001b[39;49mcontains(\u001b[39m'\u001b[39;49m\u001b[39mbenchmark\u001b[39;49m\u001b[39m'\u001b[39;49m), paragraphs))\n",
      "Cell \u001b[1;32mIn [13], line 1\u001b[0m, in \u001b[0;36m<lambda>\u001b[1;34m(x)\u001b[0m\n\u001b[1;32m----> 1\u001b[0m \u001b[39mlist\u001b[39m(\u001b[39mfilter\u001b[39m(\u001b[39mlambda\u001b[39;00m x: x\u001b[39m.\u001b[39;49mcontains(\u001b[39m'\u001b[39m\u001b[39mbenchmark\u001b[39m\u001b[39m'\u001b[39m), paragraphs))\n",
      "\u001b[1;31mAttributeError\u001b[0m: 'str' object has no attribute 'contains'"
     ]
    }
   ],
   "source": [
    "list(filter(lambda x: x.contains(\"benchmark\"), paragraphs))"
   ]
  }
 ],
 "metadata": {
  "kernelspec": {
   "display_name": "Python 3.8.13 ('hack_venv')",
   "language": "python",
   "name": "python3"
  },
  "language_info": {
   "codemirror_mode": {
    "name": "ipython",
    "version": 3
   },
   "file_extension": ".py",
   "mimetype": "text/x-python",
   "name": "python",
   "nbconvert_exporter": "python",
   "pygments_lexer": "ipython3",
   "version": "3.8.13"
  },
  "orig_nbformat": 4,
  "vscode": {
   "interpreter": {
    "hash": "e98807ee2f3da63852960dc6020a5ec887e95e81874581de0b8e6ab43381f528"
   }
  }
 },
 "nbformat": 4,
 "nbformat_minor": 2
}
