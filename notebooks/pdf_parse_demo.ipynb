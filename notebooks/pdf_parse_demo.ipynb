{
 "cells": [
  {
   "cell_type": "code",
   "execution_count": 1,
   "metadata": {},
   "outputs": [],
   "source": [
    "import os\n",
    "os.chdir(\"..\")"
   ]
  },
  {
   "cell_type": "code",
   "execution_count": 5,
   "metadata": {},
   "outputs": [],
   "source": [
    "import pandas as pd\n",
    "from lib.constants import PARSED_KIIDS_DIR"
   ]
  },
  {
   "cell_type": "code",
   "execution_count": 8,
   "metadata": {},
   "outputs": [],
   "source": [
    "df = pd.read_parquet(PARSED_KIIDS_DIR)"
   ]
  },
  {
   "cell_type": "code",
   "execution_count": 9,
   "metadata": {},
   "outputs": [
    {
     "data": {
      "text/html": [
       "<div>\n",
       "<style scoped>\n",
       "    .dataframe tbody tr th:only-of-type {\n",
       "        vertical-align: middle;\n",
       "    }\n",
       "\n",
       "    .dataframe tbody tr th {\n",
       "        vertical-align: top;\n",
       "    }\n",
       "\n",
       "    .dataframe thead th {\n",
       "        text-align: right;\n",
       "    }\n",
       "</style>\n",
       "<table border=\"1\" class=\"dataframe\">\n",
       "  <thead>\n",
       "    <tr style=\"text-align: right;\">\n",
       "      <th></th>\n",
       "      <th>id</th>\n",
       "      <th>filename</th>\n",
       "      <th>raw_text</th>\n",
       "      <th>intro</th>\n",
       "      <th>cele i polityka inwestycyjna</th>\n",
       "      <th>profil ryzyka i zysku</th>\n",
       "      <th>opłaty</th>\n",
       "      <th>wyniki osiągnięte w przeszłości</th>\n",
       "      <th>informacje praktyczne</th>\n",
       "      <th>srri</th>\n",
       "    </tr>\n",
       "  </thead>\n",
       "  <tbody>\n",
       "    <tr>\n",
       "      <th>0</th>\n",
       "      <td>1</td>\n",
       "      <td>kiid.pdf</td>\n",
       "      <td>Kluczowe informacje dla Inwestorów \\n\\nNiniejs...</td>\n",
       "      <td>Kluczowe informacje dla Inwestorów \\n\\nNiniejs...</td>\n",
       "      <td>CELE I POLITYKA INWESTYCYJNA \\n\\nCelem  inwest...</td>\n",
       "      <td>PROFIL RYZYKA I ZYSKU \\n\\nNiższe ryzyko\\n\\nWyż...</td>\n",
       "      <td>OPŁATY \\n\\nJednorazowe  opłaty  pobierane  prz...</td>\n",
       "      <td>WYNIKI OSIĄGNIĘTE W PRZESZŁOŚCI \\n\\nRoczne sto...</td>\n",
       "      <td>INFORMACJE PRAKTYCZNE \\n\\nDepozytariuszem Subf...</td>\n",
       "      <td>-1.0</td>\n",
       "    </tr>\n",
       "    <tr>\n",
       "      <th>1</th>\n",
       "      <td>2</td>\n",
       "      <td>Investor_PPK_2035_KII_21.02.2022.pdf</td>\n",
       "      <td>Kluczowe Informacje dla Inwestorów\\n\\nNiniejsz...</td>\n",
       "      <td>Kluczowe Informacje dla Inwestorów\\n\\nNiniejsz...</td>\n",
       "      <td>Cele i polityka inwestycyjna\\n\\n• Celem Subfun...</td>\n",
       "      <td>Profil ryzyka i zysku\\n\\n1\\n\\n2\\n\\n3\\n\\n4\\n\\n5...</td>\n",
       "      <td>Opłaty związane z subfunduszem\\n\\nIdentyfikato...</td>\n",
       "      <td>Wyniki osiągnięte w przeszłości\\n\\nWyniki rocz...</td>\n",
       "      <td>Informacje praktyczne\\n• Depozytariuszem Subfu...</td>\n",
       "      <td>4.0</td>\n",
       "    </tr>\n",
       "  </tbody>\n",
       "</table>\n",
       "</div>"
      ],
      "text/plain": [
       "   id                              filename  \\\n",
       "0   1                              kiid.pdf   \n",
       "1   2  Investor_PPK_2035_KII_21.02.2022.pdf   \n",
       "\n",
       "                                            raw_text  \\\n",
       "0  Kluczowe informacje dla Inwestorów \\n\\nNiniejs...   \n",
       "1  Kluczowe Informacje dla Inwestorów\\n\\nNiniejsz...   \n",
       "\n",
       "                                               intro  \\\n",
       "0  Kluczowe informacje dla Inwestorów \\n\\nNiniejs...   \n",
       "1  Kluczowe Informacje dla Inwestorów\\n\\nNiniejsz...   \n",
       "\n",
       "                        cele i polityka inwestycyjna  \\\n",
       "0  CELE I POLITYKA INWESTYCYJNA \\n\\nCelem  inwest...   \n",
       "1  Cele i polityka inwestycyjna\\n\\n• Celem Subfun...   \n",
       "\n",
       "                               profil ryzyka i zysku  \\\n",
       "0  PROFIL RYZYKA I ZYSKU \\n\\nNiższe ryzyko\\n\\nWyż...   \n",
       "1  Profil ryzyka i zysku\\n\\n1\\n\\n2\\n\\n3\\n\\n4\\n\\n5...   \n",
       "\n",
       "                                              opłaty  \\\n",
       "0  OPŁATY \\n\\nJednorazowe  opłaty  pobierane  prz...   \n",
       "1  Opłaty związane z subfunduszem\\n\\nIdentyfikato...   \n",
       "\n",
       "                     wyniki osiągnięte w przeszłości  \\\n",
       "0  WYNIKI OSIĄGNIĘTE W PRZESZŁOŚCI \\n\\nRoczne sto...   \n",
       "1  Wyniki osiągnięte w przeszłości\\n\\nWyniki rocz...   \n",
       "\n",
       "                               informacje praktyczne  srri  \n",
       "0  INFORMACJE PRAKTYCZNE \\n\\nDepozytariuszem Subf...  -1.0  \n",
       "1  Informacje praktyczne\\n• Depozytariuszem Subfu...   4.0  "
      ]
     },
     "execution_count": 9,
     "metadata": {},
     "output_type": "execute_result"
    }
   ],
   "source": [
    "df"
   ]
  }
 ],
 "metadata": {
  "kernelspec": {
   "display_name": "Python 3.8.10 ('supervision_hack_2022')",
   "language": "python",
   "name": "python3"
  },
  "language_info": {
   "codemirror_mode": {
    "name": "ipython",
    "version": 3
   },
   "file_extension": ".py",
   "mimetype": "text/x-python",
   "name": "python",
   "nbconvert_exporter": "python",
   "pygments_lexer": "ipython3",
   "version": "3.8.10"
  },
  "orig_nbformat": 4,
  "vscode": {
   "interpreter": {
    "hash": "e67fcfc5a67096e1854e2dd0704aee2d7fe9480c274e7e0e9954a4c4c5970181"
   }
  }
 },
 "nbformat": 4,
 "nbformat_minor": 2
}
