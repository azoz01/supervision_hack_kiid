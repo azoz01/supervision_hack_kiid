{
 "cells": [
  {
   "cell_type": "code",
   "execution_count": 1,
   "metadata": {},
   "outputs": [],
   "source": [
    "import os\n",
    "os.chdir(\"..\")"
   ]
  },
  {
   "cell_type": "code",
   "execution_count": 2,
   "metadata": {},
   "outputs": [],
   "source": [
    "import pandas as pd\n",
    "from lib.constants import PARSED_KIIDS_DIR"
   ]
  },
  {
   "cell_type": "code",
   "execution_count": 3,
   "metadata": {},
   "outputs": [],
   "source": [
    "df = pd.read_parquet(PARSED_KIIDS_DIR)"
   ]
  },
  {
   "cell_type": "code",
   "execution_count": 5,
   "metadata": {},
   "outputs": [
    {
     "data": {
      "text/html": [
       "<div>\n",
       "<style scoped>\n",
       "    .dataframe tbody tr th:only-of-type {\n",
       "        vertical-align: middle;\n",
       "    }\n",
       "\n",
       "    .dataframe tbody tr th {\n",
       "        vertical-align: top;\n",
       "    }\n",
       "\n",
       "    .dataframe thead th {\n",
       "        text-align: right;\n",
       "    }\n",
       "</style>\n",
       "<table border=\"1\" class=\"dataframe\">\n",
       "  <thead>\n",
       "    <tr style=\"text-align: right;\">\n",
       "      <th></th>\n",
       "      <th>id</th>\n",
       "      <th>filename</th>\n",
       "      <th>raw_text</th>\n",
       "      <th>intro</th>\n",
       "      <th>cele i polityka inwestycyjna</th>\n",
       "      <th>profil ryzyka i zysku</th>\n",
       "      <th>opłaty</th>\n",
       "      <th>wyniki osiągnięte w przeszłości</th>\n",
       "      <th>informacje praktyczne</th>\n",
       "      <th>srri</th>\n",
       "    </tr>\n",
       "  </thead>\n",
       "  <tbody>\n",
       "    <tr>\n",
       "      <th>380</th>\n",
       "      <td>421</td>\n",
       "      <td>Superfund_SFIO_Green_B_KIID.pdf</td>\n",
       "      <td>Kluczowe informacje dla inwestorów \\n\\nNiniejs...</td>\n",
       "      <td>Kluczowe informacje dla inwestorów \\n\\nNiniejs...</td>\n",
       "      <td>Cele i polityka inwestycyjna \\n\\nCelem inwesty...</td>\n",
       "      <td>Profil ryzyka i zysku \\n\\n1 \\n\\n2 \\n\\n3 \\n\\n4 ...</td>\n",
       "      <td>Opłaty \\n\\nOpłaty jednorazowe pobierane przed ...</td>\n",
       "      <td>Wyniki osiągnięte w przeszłości \\n\\nBrak danyc...</td>\n",
       "      <td>Informacje praktyczne \\n\\nDepozytariusz: Deuts...</td>\n",
       "      <td>1.0</td>\n",
       "    </tr>\n",
       "  </tbody>\n",
       "</table>\n",
       "</div>"
      ],
      "text/plain": [
       "      id                         filename  \\\n",
       "380  421  Superfund_SFIO_Green_B_KIID.pdf   \n",
       "\n",
       "                                              raw_text  \\\n",
       "380  Kluczowe informacje dla inwestorów \\n\\nNiniejs...   \n",
       "\n",
       "                                                 intro  \\\n",
       "380  Kluczowe informacje dla inwestorów \\n\\nNiniejs...   \n",
       "\n",
       "                          cele i polityka inwestycyjna  \\\n",
       "380  Cele i polityka inwestycyjna \\n\\nCelem inwesty...   \n",
       "\n",
       "                                 profil ryzyka i zysku  \\\n",
       "380  Profil ryzyka i zysku \\n\\n1 \\n\\n2 \\n\\n3 \\n\\n4 ...   \n",
       "\n",
       "                                                opłaty  \\\n",
       "380  Opłaty \\n\\nOpłaty jednorazowe pobierane przed ...   \n",
       "\n",
       "                       wyniki osiągnięte w przeszłości  \\\n",
       "380  Wyniki osiągnięte w przeszłości \\n\\nBrak danyc...   \n",
       "\n",
       "                                 informacje praktyczne  srri  \n",
       "380  Informacje praktyczne \\n\\nDepozytariusz: Deuts...   1.0  "
      ]
     },
     "execution_count": 5,
     "metadata": {},
     "output_type": "execute_result"
    }
   ],
   "source": [
    "df.loc[df[\"filename\"] == \"Superfund_SFIO_Green_B_KIID.pdf\"]"
   ]
  }
 ],
 "metadata": {
  "kernelspec": {
   "display_name": "Python 3.8.10 ('supervision_hack_2022')",
   "language": "python",
   "name": "python3"
  },
  "language_info": {
   "codemirror_mode": {
    "name": "ipython",
    "version": 3
   },
   "file_extension": ".py",
   "mimetype": "text/x-python",
   "name": "python",
   "nbconvert_exporter": "python",
   "pygments_lexer": "ipython3",
   "version": "3.8.10"
  },
  "orig_nbformat": 4,
  "vscode": {
   "interpreter": {
    "hash": "e67fcfc5a67096e1854e2dd0704aee2d7fe9480c274e7e0e9954a4c4c5970181"
   }
  }
 },
 "nbformat": 4,
 "nbformat_minor": 2
}
