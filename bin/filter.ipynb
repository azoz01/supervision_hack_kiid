{
 "cells": [
  {
   "cell_type": "code",
   "execution_count": null,
   "metadata": {
    "collapsed": true,
    "pycharm": {
     "is_executing": true
    }
   },
   "outputs": [
    {
     "name": "stderr",
     "output_type": "stream",
     "text": [
      "2022-10-23 01:40:11,516 lib.pdf_process WARNING: Didn't succed find cele i polityka inwestycyjna in data/raw/Allianz_SFIO_PPK_2045_KIID.pdf\n",
      "2022-10-23 01:40:20,681 lib.pdf_process WARNING: Didn't succed find cele i polityka inwestycyjna in data/raw/2022-09-pl-ESA-2055.pdf\n",
      "2022-10-23 01:41:00,361 lib.pdf_process WARNING: Didn't succed find cele i polityka inwestycyjna in data/raw/NF_Akcji_Amerykanskich.pdf\n",
      "2022-10-23 01:41:16,641 lib.pdf_process WARNING: Didn't succed find cele i polityka inwestycyjna in data/raw/FOR30__KAB__2022-09-30.pdf\n",
      "2022-10-23 01:41:23,407 lib.pdf_process WARNING: Didn't succed find cele i polityka inwestycyjna in data/raw/2022-09-pl-ESA-akcjirynkowwschodzacych.pdf\n",
      "2022-10-23 01:41:32,880 lib.pdf_process WARNING: Didn't succed find cele i polityka inwestycyjna in data/raw/1535370\n",
      "2022-10-23 01:41:42,998 lib.pdf_process WARNING: Didn't succed find cele i polityka inwestycyjna in data/raw/20220905_przytoczenie_zmian_KIID_alternatywny.pdf\n",
      "2022-10-23 01:41:55,036 lib.pdf_process WARNING: Didn't succed find cele i polityka inwestycyjna in data/raw/Allianz_SFIO_PPK_2050_KIID.pdf\n",
      "2022-10-23 01:42:05,189 lib.pdf_process WARNING: Didn't succed find cele i polityka inwestycyjna in data/raw/NF_Akcji_MISS.pdf\n",
      "2022-10-23 01:42:06,478 lib.pdf_process WARNING: Didn't succed find cele i polityka inwestycyjna in data/raw/2022-09-pl-ESA-2030.pdf\n",
      "2022-10-23 01:42:08,158 lib.pdf_process WARNING: Didn't succed find cele i polityka inwestycyjna in data/raw/NF_Konserwatywny.pdf\n",
      "2022-10-23 01:42:53,994 lib.pdf_process WARNING: Didn't succed find cele i polityka inwestycyjna in data/raw/Allianz_SFIO_PPK_2040_KIID.pdf\n",
      "2022-10-23 01:43:03,607 lib.pdf_process WARNING: Didn't succed find cele i polityka inwestycyjna in data/raw/Allianz_SFIO_PPK_2030_KIID.pdf\n",
      "2022-10-23 01:43:44,546 lib.pdf_process WARNING: Didn't succed find cele i polityka inwestycyjna in data/raw/2022-09-pl-ESA-spolekinnowacyjnych.pdf\n",
      "2022-10-23 01:43:55,468 lib.pdf_process WARNING: Didn't succed find cele i polityka inwestycyjna in data/raw/Allianz_SFIO_PPK_2035_KIID.pdf\n",
      "2022-10-23 01:44:02,763 lib.pdf_process WARNING: Didn't succed find cele i polityka inwestycyjna in data/raw/1540621\n",
      "2022-10-23 01:44:40,592 lib.pdf_process WARNING: Didn't succed find cele i polityka inwestycyjna in data/raw/2022-09-pl-ESA-2065.pdf\n",
      "2022-10-23 01:45:07,265 lib.pdf_process WARNING: Didn't succed find cele i polityka inwestycyjna in data/raw/2022-09-pl-ESA-2050.pdf\n",
      "2022-10-23 01:45:12,933 lib.pdf_process WARNING: Didn't succed find cele i polityka inwestycyjna in data/raw/UNIQA_Subfundusz_Akcji_ESG.pdf\n",
      "2022-10-23 01:45:14,583 lib.pdf_process WARNING: Didn't succed find cele i polityka inwestycyjna in data/raw/NF_Obligacji.pdf\n",
      "2022-10-23 01:45:22,311 lib.pdf_process WARNING: Didn't succed find cele i polityka inwestycyjna in data/raw/NF_Stabilny.pdf\n"
     ]
    }
   ],
   "source": [
    "from lib.date_parse import get_dates_from_text\n",
    "from lib.pdf_process import split_text_into_sections\n",
    "from pdfminer.high_level import extract_text\n",
    "from datetime import date, timedelta\n",
    "import os\n",
    "def get_current_kiid(path):\n",
    "    try:\n",
    "        text = extract_text(path)\n",
    "    except:\n",
    "        return False\n",
    "    dates = get_dates_from_text(text)\n",
    "    if not dates:\n",
    "        return False\n",
    "    if dates[-1] < date.today() - timedelta(days = 365):\n",
    "        return False\n",
    "    try:\n",
    "        sections = split_text_into_sections(text, path)\n",
    "        return True\n",
    "    except:\n",
    "        return False\n",
    "\n",
    "\n",
    "\n",
    "files = os.listdir('data/raw')\n",
    "current_kiids = [kid for kid in files if get_current_kiid('data/raw/'+kid)]\n",
    "\n"
   ]
  },
  {
   "cell_type": "code",
   "execution_count": 3,
   "outputs": [],
   "source": [
    "os.chdir('..')"
   ],
   "metadata": {
    "collapsed": false
   }
  },
  {
   "cell_type": "code",
   "execution_count": 2,
   "outputs": [
    {
     "data": {
      "text/plain": "'/home/mikolaj/supervision_hack_kiid/bin'"
     },
     "execution_count": 2,
     "metadata": {},
     "output_type": "execute_result"
    }
   ],
   "source": [
    "import os\n",
    "os.getcwd()"
   ],
   "metadata": {
    "collapsed": false
   }
  },
  {
   "cell_type": "code",
   "execution_count": null,
   "outputs": [],
   "source": [],
   "metadata": {
    "collapsed": false
   }
  }
 ],
 "metadata": {
  "kernelspec": {
   "display_name": "Python 3",
   "language": "python",
   "name": "python3"
  },
  "language_info": {
   "codemirror_mode": {
    "name": "ipython",
    "version": 2
   },
   "file_extension": ".py",
   "mimetype": "text/x-python",
   "name": "python",
   "nbconvert_exporter": "python",
   "pygments_lexer": "ipython2",
   "version": "2.7.6"
  }
 },
 "nbformat": 4,
 "nbformat_minor": 0
}
